{
 "cells": [
  {
   "cell_type": "code",
   "execution_count": 3,
   "metadata": {},
   "outputs": [],
   "source": [
    "import numpy as np\n",
    "import pandas as pd\n",
    "import os\n",
    "import pickle\n",
    "import csv\n",
    "from matplotlib import pyplot as plt\n",
    "import seaborn as sns\n",
    "import missingno as msno\n",
    "DATA_DIR = 'data/'"
   ]
  },
  {
   "cell_type": "code",
   "execution_count": 4,
   "metadata": {
    "scrolled": true
   },
   "outputs": [
    {
     "name": "stdout",
     "output_type": "stream",
     "text": [
      "msddata1.pkl\n",
      "msddata10.pkl\n",
      "msddata100.pkl\n",
      "msddata1000.pkl\n",
      "msddata101.pkl\n",
      "msddata102.pkl\n",
      "msddata103.pkl\n",
      "msddata104.pkl\n",
      "msddata105.pkl\n",
      "msddata106.pkl\n",
      "msddata107.pkl\n",
      "msddata108.pkl\n",
      "msddata109.pkl\n",
      "msddata11.pkl\n",
      "msddata110.pkl\n",
      "msddata111.pkl\n",
      "msddata112.pkl\n",
      "msddata113.pkl\n",
      "msddata114.pkl\n",
      "msddata115.pkl\n",
      "msddata116.pkl\n",
      "msddata117.pkl\n",
      "msddata118.pkl\n",
      "msddata119.pkl\n",
      "msddata12.pkl\n",
      "msddata120.pkl\n",
      "msddata121.pkl\n",
      "msddata122.pkl\n",
      "msddata123.pkl\n",
      "msddata124.pkl\n",
      "msddata125.pkl\n",
      "msddata126.pkl\n",
      "msddata127.pkl\n",
      "msddata128.pkl\n",
      "msddata129.pkl\n",
      "msddata13.pkl\n",
      "msddata130.pkl\n",
      "msddata131.pkl\n",
      "msddata132.pkl\n",
      "msddata133.pkl\n",
      "msddata134.pkl\n",
      "msddata135.pkl\n",
      "msddata136.pkl\n",
      "msddata137.pkl\n",
      "msddata138.pkl\n",
      "msddata139.pkl\n",
      "msddata14.pkl\n",
      "msddata140.pkl\n",
      "msddata141.pkl\n",
      "msddata142.pkl\n",
      "msddata143.pkl\n",
      "msddata144.pkl\n",
      "msddata145.pkl\n",
      "msddata146.pkl\n",
      "msddata147.pkl\n",
      "msddata148.pkl\n",
      "msddata149.pkl\n",
      "msddata15.pkl\n",
      "msddata150.pkl\n",
      "msddata151.pkl\n",
      "msddata152.pkl\n",
      "msddata153.pkl\n",
      "msddata154.pkl\n",
      "msddata155.pkl\n",
      "msddata156.pkl\n",
      "msddata157.pkl\n",
      "msddata158.pkl\n",
      "msddata159.pkl\n",
      "msddata16.pkl\n",
      "msddata160.pkl\n",
      "msddata161.pkl\n",
      "msddata162.pkl\n",
      "msddata163.pkl\n",
      "msddata164.pkl\n",
      "msddata165.pkl\n",
      "msddata166.pkl\n",
      "msddata167.pkl\n",
      "msddata168.pkl\n",
      "msddata169.pkl\n",
      "msddata17.pkl\n",
      "msddata170.pkl\n",
      "msddata171.pkl\n",
      "msddata172.pkl\n",
      "msddata173.pkl\n",
      "msddata174.pkl\n",
      "msddata175.pkl\n",
      "msddata176.pkl\n",
      "msddata177.pkl\n",
      "msddata178.pkl\n",
      "msddata179.pkl\n",
      "msddata18.pkl\n",
      "msddata180.pkl\n",
      "msddata181.pkl\n",
      "msddata182.pkl\n",
      "msddata183.pkl\n",
      "msddata184.pkl\n",
      "msddata185.pkl\n",
      "msddata186.pkl\n",
      "msddata187.pkl\n",
      "msddata188.pkl\n",
      "msddata189.pkl\n",
      "msddata19.pkl\n",
      "msddata190.pkl\n",
      "msddata191.pkl\n",
      "msddata192.pkl\n",
      "msddata193.pkl\n",
      "msddata194.pkl\n",
      "msddata195.pkl\n",
      "msddata196.pkl\n",
      "msddata197.pkl\n",
      "msddata198.pkl\n",
      "msddata199.pkl\n",
      "msddata2.pkl\n",
      "msddata20.pkl\n",
      "msddata200.pkl\n",
      "msddata201.pkl\n",
      "msddata202.pkl\n",
      "msddata203.pkl\n",
      "msddata204.pkl\n",
      "msddata205.pkl\n",
      "msddata206.pkl\n",
      "msddata207.pkl\n",
      "msddata208.pkl\n",
      "msddata209.pkl\n",
      "msddata21.pkl\n",
      "msddata210.pkl\n",
      "msddata211.pkl\n",
      "msddata212.pkl\n",
      "msddata213.pkl\n",
      "msddata214.pkl\n",
      "msddata215.pkl\n",
      "msddata216.pkl\n",
      "msddata217.pkl\n",
      "msddata218.pkl\n",
      "msddata219.pkl\n",
      "msddata22.pkl\n",
      "msddata220.pkl\n",
      "msddata221.pkl\n",
      "msddata222.pkl\n",
      "msddata223.pkl\n",
      "msddata224.pkl\n",
      "msddata225.pkl\n",
      "msddata226.pkl\n",
      "msddata227.pkl\n",
      "msddata228.pkl\n",
      "msddata229.pkl\n",
      "msddata23.pkl\n",
      "msddata230.pkl\n",
      "msddata231.pkl\n",
      "msddata232.pkl\n",
      "msddata233.pkl\n",
      "msddata234.pkl\n",
      "msddata235.pkl\n",
      "msddata236.pkl\n",
      "msddata237.pkl\n",
      "msddata238.pkl\n",
      "msddata239.pkl\n",
      "msddata24.pkl\n",
      "msddata240.pkl\n",
      "msddata241.pkl\n",
      "msddata242.pkl\n",
      "msddata243.pkl\n",
      "msddata244.pkl\n",
      "msddata245.pkl\n",
      "msddata246.pkl\n",
      "msddata247.pkl\n",
      "msddata248.pkl\n",
      "msddata249.pkl\n",
      "msddata25.pkl\n",
      "msddata250.pkl\n",
      "msddata251.pkl\n",
      "msddata252.pkl\n",
      "msddata253.pkl\n",
      "msddata254.pkl\n",
      "msddata255.pkl\n",
      "msddata256.pkl\n",
      "msddata257.pkl\n",
      "msddata258.pkl\n",
      "msddata259.pkl\n",
      "msddata26.pkl\n",
      "msddata260.pkl\n",
      "msddata261.pkl\n",
      "msddata262.pkl\n",
      "msddata263.pkl\n",
      "msddata264.pkl\n",
      "msddata265.pkl\n",
      "msddata266.pkl\n",
      "msddata267.pkl\n",
      "msddata268.pkl\n",
      "msddata269.pkl\n",
      "msddata27.pkl\n",
      "msddata270.pkl\n",
      "msddata271.pkl\n",
      "msddata272.pkl\n",
      "msddata273.pkl\n",
      "msddata274.pkl\n",
      "msddata275.pkl\n",
      "msddata276.pkl\n",
      "msddata277.pkl\n",
      "msddata278.pkl\n",
      "msddata279.pkl\n",
      "msddata28.pkl\n",
      "msddata280.pkl\n",
      "msddata281.pkl\n",
      "msddata282.pkl\n",
      "msddata283.pkl\n",
      "msddata284.pkl\n",
      "msddata285.pkl\n",
      "msddata286.pkl\n",
      "msddata287.pkl\n",
      "msddata288.pkl\n",
      "msddata289.pkl\n",
      "msddata29.pkl\n",
      "msddata290.pkl\n",
      "msddata291.pkl\n",
      "msddata292.pkl\n",
      "msddata293.pkl\n",
      "msddata294.pkl\n",
      "msddata295.pkl\n",
      "msddata296.pkl\n",
      "msddata297.pkl\n",
      "msddata298.pkl\n",
      "msddata299.pkl\n",
      "msddata3.pkl\n",
      "msddata30.pkl\n",
      "msddata300.pkl\n",
      "msddata301.pkl\n",
      "msddata302.pkl\n",
      "msddata303.pkl\n",
      "msddata304.pkl\n",
      "msddata305.pkl\n",
      "msddata306.pkl\n",
      "msddata307.pkl\n",
      "msddata308.pkl\n",
      "msddata309.pkl\n",
      "msddata31.pkl\n",
      "msddata310.pkl\n",
      "msddata311.pkl\n",
      "msddata312.pkl\n",
      "msddata313.pkl\n",
      "msddata314.pkl\n",
      "msddata315.pkl\n",
      "msddata316.pkl\n",
      "msddata317.pkl\n",
      "msddata318.pkl\n",
      "msddata319.pkl\n",
      "msddata32.pkl\n",
      "msddata320.pkl\n",
      "msddata321.pkl\n",
      "msddata322.pkl\n",
      "msddata323.pkl\n",
      "msddata324.pkl\n",
      "msddata325.pkl\n",
      "msddata326.pkl\n",
      "msddata327.pkl\n",
      "msddata328.pkl\n",
      "msddata329.pkl\n",
      "msddata33.pkl\n",
      "msddata330.pkl\n",
      "msddata331.pkl\n",
      "msddata332.pkl\n",
      "msddata333.pkl\n",
      "msddata334.pkl\n",
      "msddata335.pkl\n",
      "msddata336.pkl\n",
      "msddata337.pkl\n",
      "msddata338.pkl\n",
      "msddata339.pkl\n",
      "msddata34.pkl\n",
      "msddata340.pkl\n",
      "msddata341.pkl\n",
      "msddata342.pkl\n",
      "msddata343.pkl\n",
      "msddata344.pkl\n",
      "msddata345.pkl\n",
      "msddata346.pkl\n",
      "msddata347.pkl\n",
      "msddata348.pkl\n",
      "msddata349.pkl\n",
      "msddata35.pkl\n",
      "msddata350.pkl\n",
      "msddata351.pkl\n",
      "msddata352.pkl\n",
      "msddata353.pkl\n",
      "msddata354.pkl\n",
      "msddata355.pkl\n",
      "msddata356.pkl\n",
      "msddata357.pkl\n",
      "msddata358.pkl\n",
      "msddata359.pkl\n",
      "msddata36.pkl\n",
      "msddata360.pkl\n",
      "msddata361.pkl\n",
      "msddata362.pkl\n",
      "msddata363.pkl\n",
      "msddata364.pkl\n",
      "msddata365.pkl\n",
      "msddata366.pkl\n",
      "msddata367.pkl\n",
      "msddata368.pkl\n",
      "msddata369.pkl\n",
      "msddata37.pkl\n",
      "msddata370.pkl\n",
      "msddata371.pkl\n",
      "msddata372.pkl\n",
      "msddata373.pkl\n",
      "msddata374.pkl\n",
      "msddata375.pkl\n",
      "msddata376.pkl\n",
      "msddata377.pkl\n",
      "msddata378.pkl\n",
      "msddata379.pkl\n",
      "msddata38.pkl\n",
      "msddata380.pkl\n",
      "msddata381.pkl\n",
      "msddata382.pkl\n",
      "msddata383.pkl\n",
      "msddata384.pkl\n",
      "msddata385.pkl\n",
      "msddata386.pkl\n",
      "msddata387.pkl\n",
      "msddata388.pkl\n",
      "msddata389.pkl\n",
      "msddata39.pkl\n",
      "msddata390.pkl\n",
      "msddata391.pkl\n",
      "msddata392.pkl\n",
      "msddata393.pkl\n",
      "msddata394.pkl\n",
      "msddata395.pkl\n",
      "msddata396.pkl\n",
      "msddata397.pkl\n",
      "msddata398.pkl\n",
      "msddata399.pkl\n",
      "msddata4.pkl\n",
      "msddata40.pkl\n",
      "msddata400.pkl\n",
      "msddata401.pkl\n",
      "msddata402.pkl\n",
      "msddata403.pkl\n",
      "msddata404.pkl\n",
      "msddata405.pkl\n",
      "msddata406.pkl\n",
      "msddata407.pkl\n",
      "msddata408.pkl\n",
      "msddata409.pkl\n",
      "msddata41.pkl\n",
      "msddata410.pkl\n",
      "msddata411.pkl\n",
      "msddata412.pkl\n",
      "msddata413.pkl\n",
      "msddata414.pkl\n",
      "msddata415.pkl\n",
      "msddata416.pkl\n",
      "msddata417.pkl\n",
      "msddata418.pkl\n",
      "msddata419.pkl\n",
      "msddata42.pkl\n",
      "msddata420.pkl\n",
      "msddata421.pkl\n",
      "msddata422.pkl\n",
      "msddata423.pkl\n",
      "msddata424.pkl\n",
      "msddata425.pkl\n",
      "msddata426.pkl\n",
      "msddata427.pkl\n",
      "msddata428.pkl\n",
      "msddata429.pkl\n",
      "msddata43.pkl\n",
      "msddata430.pkl\n",
      "msddata431.pkl\n",
      "msddata432.pkl\n",
      "msddata433.pkl\n",
      "msddata434.pkl\n",
      "msddata435.pkl\n",
      "msddata436.pkl\n",
      "msddata437.pkl\n",
      "msddata438.pkl\n",
      "msddata439.pkl\n",
      "msddata44.pkl\n",
      "msddata440.pkl\n",
      "msddata441.pkl\n",
      "msddata442.pkl\n",
      "msddata443.pkl\n",
      "msddata444.pkl\n",
      "msddata445.pkl\n",
      "msddata446.pkl\n",
      "msddata447.pkl\n",
      "msddata448.pkl\n",
      "msddata449.pkl\n",
      "msddata45.pkl\n",
      "msddata450.pkl\n",
      "msddata451.pkl\n",
      "msddata452.pkl\n",
      "msddata453.pkl\n",
      "msddata454.pkl\n",
      "msddata455.pkl\n",
      "msddata456.pkl\n",
      "msddata457.pkl\n",
      "msddata458.pkl\n",
      "msddata459.pkl\n",
      "msddata46.pkl\n",
      "msddata460.pkl\n",
      "msddata461.pkl\n",
      "msddata462.pkl\n",
      "msddata463.pkl\n",
      "msddata464.pkl\n",
      "msddata465.pkl\n",
      "msddata466.pkl\n",
      "msddata467.pkl\n",
      "msddata468.pkl\n",
      "msddata469.pkl\n",
      "msddata47.pkl\n",
      "msddata470.pkl\n",
      "msddata471.pkl\n",
      "msddata472.pkl\n",
      "msddata473.pkl\n",
      "msddata474.pkl\n",
      "msddata475.pkl\n",
      "msddata476.pkl\n",
      "msddata477.pkl\n",
      "msddata478.pkl\n",
      "msddata479.pkl\n",
      "msddata48.pkl\n",
      "msddata480.pkl\n",
      "msddata481.pkl\n",
      "msddata482.pkl\n",
      "msddata483.pkl\n",
      "msddata484.pkl\n",
      "msddata485.pkl\n",
      "msddata486.pkl\n",
      "msddata487.pkl\n",
      "msddata488.pkl\n",
      "msddata489.pkl\n",
      "msddata49.pkl\n",
      "msddata490.pkl\n",
      "msddata491.pkl\n",
      "msddata492.pkl\n",
      "msddata493.pkl\n",
      "msddata494.pkl\n",
      "msddata495.pkl\n",
      "msddata496.pkl\n",
      "msddata497.pkl\n",
      "msddata498.pkl\n",
      "msddata499.pkl\n",
      "msddata5.pkl\n",
      "msddata50.pkl\n",
      "msddata500.pkl\n",
      "msddata501.pkl\n",
      "msddata502.pkl\n",
      "msddata503.pkl\n",
      "msddata504.pkl\n",
      "msddata505.pkl\n",
      "msddata506.pkl\n",
      "msddata507.pkl\n",
      "msddata508.pkl\n",
      "msddata509.pkl\n",
      "msddata51.pkl\n",
      "msddata510.pkl\n",
      "msddata511.pkl\n",
      "msddata512.pkl\n",
      "msddata513.pkl\n",
      "msddata514.pkl\n",
      "msddata515.pkl\n",
      "msddata516.pkl\n",
      "msddata517.pkl\n",
      "msddata518.pkl\n",
      "msddata519.pkl\n",
      "msddata52.pkl\n",
      "msddata520.pkl\n",
      "msddata521.pkl\n",
      "msddata522.pkl\n",
      "msddata523.pkl\n",
      "msddata524.pkl\n",
      "msddata525.pkl\n",
      "msddata526.pkl\n",
      "msddata527.pkl\n",
      "msddata528.pkl\n",
      "msddata529.pkl\n",
      "msddata53.pkl\n",
      "msddata530.pkl\n",
      "msddata531.pkl\n",
      "msddata532.pkl\n",
      "msddata533.pkl\n",
      "msddata534.pkl\n",
      "msddata535.pkl\n",
      "msddata536.pkl\n",
      "msddata537.pkl\n",
      "msddata538.pkl\n",
      "msddata539.pkl\n",
      "msddata54.pkl\n",
      "msddata540.pkl\n",
      "msddata541.pkl\n",
      "msddata542.pkl\n",
      "msddata543.pkl\n",
      "msddata544.pkl\n",
      "msddata545.pkl\n",
      "msddata546.pkl\n",
      "msddata547.pkl\n",
      "msddata548.pkl\n",
      "msddata549.pkl\n",
      "msddata55.pkl\n",
      "msddata550.pkl\n",
      "msddata551.pkl\n",
      "msddata552.pkl\n",
      "msddata553.pkl\n",
      "msddata554.pkl\n",
      "msddata555.pkl\n",
      "msddata556.pkl\n",
      "msddata557.pkl\n",
      "msddata558.pkl\n",
      "msddata559.pkl\n",
      "msddata56.pkl\n",
      "msddata560.pkl\n",
      "msddata561.pkl\n",
      "msddata562.pkl\n",
      "msddata563.pkl\n",
      "msddata564.pkl\n",
      "msddata565.pkl\n",
      "msddata566.pkl\n",
      "msddata567.pkl\n",
      "msddata568.pkl\n",
      "msddata569.pkl\n",
      "msddata57.pkl\n",
      "msddata570.pkl\n",
      "msddata571.pkl\n",
      "msddata572.pkl\n",
      "msddata573.pkl\n",
      "msddata574.pkl\n",
      "msddata575.pkl\n",
      "msddata576.pkl\n",
      "msddata577.pkl\n",
      "msddata578.pkl\n",
      "msddata579.pkl\n",
      "msddata58.pkl\n",
      "msddata580.pkl\n",
      "msddata581.pkl\n",
      "msddata582.pkl\n",
      "msddata583.pkl\n",
      "msddata584.pkl\n",
      "msddata585.pkl\n",
      "msddata586.pkl\n",
      "msddata587.pkl\n",
      "msddata588.pkl\n",
      "msddata589.pkl\n",
      "msddata59.pkl\n",
      "msddata590.pkl\n",
      "msddata591.pkl\n",
      "msddata592.pkl\n",
      "msddata593.pkl\n",
      "msddata594.pkl\n"
     ]
    },
    {
     "name": "stdout",
     "output_type": "stream",
     "text": [
      "msddata595.pkl\n",
      "msddata596.pkl\n",
      "msddata597.pkl\n",
      "msddata598.pkl\n",
      "msddata599.pkl\n",
      "msddata6.pkl\n",
      "msddata60.pkl\n",
      "msddata600.pkl\n",
      "msddata601.pkl\n",
      "msddata602.pkl\n",
      "msddata603.pkl\n",
      "msddata604.pkl\n",
      "msddata605.pkl\n",
      "msddata606.pkl\n",
      "msddata607.pkl\n",
      "msddata608.pkl\n",
      "msddata609.pkl\n",
      "msddata61.pkl\n",
      "msddata610.pkl\n",
      "msddata611.pkl\n",
      "msddata612.pkl\n",
      "msddata613.pkl\n",
      "msddata614.pkl\n",
      "msddata615.pkl\n",
      "msddata616.pkl\n",
      "msddata617.pkl\n",
      "msddata618.pkl\n",
      "msddata619.pkl\n",
      "msddata62.pkl\n",
      "msddata620.pkl\n",
      "msddata621.pkl\n",
      "msddata622.pkl\n",
      "msddata623.pkl\n",
      "msddata624.pkl\n",
      "msddata625.pkl\n",
      "msddata626.pkl\n",
      "msddata627.pkl\n",
      "msddata628.pkl\n",
      "msddata629.pkl\n",
      "msddata63.pkl\n",
      "msddata630.pkl\n",
      "msddata631.pkl\n",
      "msddata632.pkl\n",
      "msddata633.pkl\n",
      "msddata634.pkl\n",
      "msddata635.pkl\n",
      "msddata636.pkl\n",
      "msddata637.pkl\n",
      "msddata638.pkl\n",
      "msddata639.pkl\n",
      "msddata64.pkl\n",
      "msddata640.pkl\n",
      "msddata641.pkl\n",
      "msddata642.pkl\n",
      "msddata643.pkl\n",
      "msddata644.pkl\n",
      "msddata645.pkl\n",
      "msddata646.pkl\n",
      "msddata647.pkl\n",
      "msddata648.pkl\n",
      "msddata649.pkl\n",
      "msddata65.pkl\n",
      "msddata650.pkl\n",
      "msddata651.pkl\n",
      "msddata652.pkl\n",
      "msddata653.pkl\n",
      "msddata654.pkl\n",
      "msddata655.pkl\n",
      "msddata656.pkl\n",
      "msddata657.pkl\n",
      "msddata658.pkl\n",
      "msddata659.pkl\n",
      "msddata66.pkl\n",
      "msddata660.pkl\n",
      "msddata661.pkl\n",
      "msddata662.pkl\n",
      "msddata663.pkl\n",
      "msddata664.pkl\n",
      "msddata665.pkl\n",
      "msddata666.pkl\n",
      "msddata667.pkl\n",
      "msddata668.pkl\n",
      "msddata669.pkl\n",
      "msddata67.pkl\n",
      "msddata670.pkl\n",
      "msddata671.pkl\n",
      "msddata672.pkl\n",
      "msddata673.pkl\n",
      "msddata674.pkl\n",
      "msddata675.pkl\n",
      "msddata676.pkl\n",
      "msddata677.pkl\n",
      "msddata678.pkl\n",
      "msddata679.pkl\n",
      "msddata68.pkl\n",
      "msddata680.pkl\n",
      "msddata681.pkl\n",
      "msddata682.pkl\n",
      "msddata683.pkl\n",
      "msddata684.pkl\n",
      "msddata685.pkl\n",
      "msddata686.pkl\n",
      "msddata687.pkl\n",
      "msddata688.pkl\n",
      "msddata689.pkl\n",
      "msddata69.pkl\n",
      "msddata690.pkl\n",
      "msddata691.pkl\n",
      "msddata692.pkl\n",
      "msddata693.pkl\n",
      "msddata694.pkl\n",
      "msddata695.pkl\n",
      "msddata696.pkl\n",
      "msddata697.pkl\n",
      "msddata698.pkl\n",
      "msddata699.pkl\n",
      "msddata7.pkl\n",
      "msddata70.pkl\n",
      "msddata700.pkl\n",
      "msddata701.pkl\n",
      "msddata702.pkl\n",
      "msddata703.pkl\n",
      "msddata704.pkl\n",
      "msddata705.pkl\n",
      "msddata706.pkl\n",
      "msddata707.pkl\n",
      "msddata708.pkl\n",
      "msddata709.pkl\n",
      "msddata71.pkl\n",
      "msddata710.pkl\n",
      "msddata711.pkl\n",
      "msddata712.pkl\n",
      "msddata713.pkl\n",
      "msddata714.pkl\n",
      "msddata715.pkl\n",
      "msddata716.pkl\n",
      "msddata717.pkl\n",
      "msddata718.pkl\n",
      "msddata719.pkl\n",
      "msddata72.pkl\n",
      "msddata720.pkl\n",
      "msddata721.pkl\n",
      "msddata722.pkl\n",
      "msddata723.pkl\n",
      "msddata724.pkl\n",
      "msddata725.pkl\n",
      "msddata726.pkl\n",
      "msddata727.pkl\n",
      "msddata728.pkl\n",
      "msddata729.pkl\n",
      "msddata73.pkl\n",
      "msddata730.pkl\n",
      "msddata731.pkl\n",
      "msddata732.pkl\n",
      "msddata733.pkl\n",
      "msddata734.pkl\n",
      "msddata735.pkl\n",
      "msddata736.pkl\n",
      "msddata737.pkl\n",
      "msddata738.pkl\n",
      "msddata739.pkl\n",
      "msddata74.pkl\n",
      "msddata740.pkl\n",
      "msddata741.pkl\n",
      "msddata742.pkl\n",
      "msddata743.pkl\n",
      "msddata744.pkl\n",
      "msddata745.pkl\n",
      "msddata746.pkl\n",
      "msddata747.pkl\n",
      "msddata748.pkl\n",
      "msddata749.pkl\n",
      "msddata75.pkl\n",
      "msddata750.pkl\n",
      "msddata751.pkl\n",
      "msddata752.pkl\n",
      "msddata753.pkl\n",
      "msddata754.pkl\n",
      "msddata755.pkl\n",
      "msddata756.pkl\n",
      "msddata757.pkl\n",
      "msddata758.pkl\n",
      "msddata759.pkl\n",
      "msddata76.pkl\n",
      "msddata760.pkl\n",
      "msddata761.pkl\n",
      "msddata762.pkl\n",
      "msddata763.pkl\n",
      "msddata764.pkl\n",
      "msddata765.pkl\n",
      "msddata766.pkl\n",
      "msddata767.pkl\n",
      "msddata768.pkl\n",
      "msddata769.pkl\n",
      "msddata77.pkl\n",
      "msddata770.pkl\n",
      "msddata771.pkl\n",
      "msddata772.pkl\n",
      "msddata773.pkl\n",
      "msddata774.pkl\n",
      "msddata775.pkl\n",
      "msddata776.pkl\n",
      "msddata777.pkl\n",
      "msddata778.pkl\n",
      "msddata779.pkl\n",
      "msddata78.pkl\n",
      "msddata780.pkl\n",
      "msddata781.pkl\n",
      "msddata782.pkl\n",
      "msddata783.pkl\n",
      "msddata784.pkl\n",
      "msddata785.pkl\n",
      "msddata786.pkl\n",
      "msddata787.pkl\n",
      "msddata788.pkl\n",
      "msddata789.pkl\n",
      "msddata79.pkl\n",
      "msddata790.pkl\n",
      "msddata791.pkl\n",
      "msddata792.pkl\n",
      "msddata793.pkl\n",
      "msddata794.pkl\n",
      "msddata795.pkl\n",
      "msddata796.pkl\n",
      "msddata797.pkl\n",
      "msddata798.pkl\n",
      "msddata799.pkl\n",
      "msddata8.pkl\n",
      "msddata80.pkl\n",
      "msddata800.pkl\n",
      "msddata801.pkl\n",
      "msddata802.pkl\n",
      "msddata803.pkl\n",
      "msddata804.pkl\n",
      "msddata805.pkl\n",
      "msddata806.pkl\n",
      "msddata807.pkl\n",
      "msddata808.pkl\n",
      "msddata809.pkl\n",
      "msddata81.pkl\n",
      "msddata810.pkl\n",
      "msddata811.pkl\n",
      "msddata812.pkl\n",
      "msddata813.pkl\n",
      "msddata814.pkl\n",
      "msddata815.pkl\n",
      "msddata816.pkl\n",
      "msddata817.pkl\n",
      "msddata818.pkl\n",
      "msddata819.pkl\n",
      "msddata82.pkl\n",
      "msddata820.pkl\n",
      "msddata821.pkl\n",
      "msddata822.pkl\n",
      "msddata823.pkl\n",
      "msddata824.pkl\n",
      "msddata825.pkl\n",
      "msddata826.pkl\n",
      "msddata827.pkl\n",
      "msddata828.pkl\n",
      "msddata829.pkl\n",
      "msddata83.pkl\n",
      "msddata830.pkl\n",
      "msddata831.pkl\n",
      "msddata832.pkl\n",
      "msddata833.pkl\n",
      "msddata834.pkl\n",
      "msddata835.pkl\n",
      "msddata836.pkl\n",
      "msddata837.pkl\n",
      "msddata838.pkl\n",
      "msddata839.pkl\n",
      "msddata84.pkl\n",
      "msddata840.pkl\n",
      "msddata841.pkl\n",
      "msddata842.pkl\n",
      "msddata843.pkl\n",
      "msddata844.pkl\n",
      "msddata845.pkl\n",
      "msddata846.pkl\n",
      "msddata847.pkl\n",
      "msddata848.pkl\n",
      "msddata849.pkl\n",
      "msddata85.pkl\n",
      "msddata850.pkl\n",
      "msddata851.pkl\n",
      "msddata852.pkl\n",
      "msddata853.pkl\n",
      "msddata854.pkl\n",
      "msddata855.pkl\n",
      "msddata856.pkl\n",
      "msddata857.pkl\n",
      "msddata858.pkl\n",
      "msddata859.pkl\n",
      "msddata86.pkl\n",
      "msddata860.pkl\n",
      "msddata861.pkl\n",
      "msddata862.pkl\n",
      "msddata863.pkl\n",
      "msddata864.pkl\n",
      "msddata865.pkl\n",
      "msddata866.pkl\n",
      "msddata867.pkl\n",
      "msddata868.pkl\n",
      "msddata869.pkl\n",
      "msddata87.pkl\n",
      "msddata870.pkl\n",
      "msddata871.pkl\n",
      "msddata872.pkl\n",
      "msddata873.pkl\n",
      "msddata874.pkl\n",
      "msddata875.pkl\n",
      "msddata876.pkl\n",
      "msddata877.pkl\n",
      "msddata878.pkl\n",
      "msddata879.pkl\n",
      "msddata88.pkl\n",
      "msddata880.pkl\n",
      "msddata881.pkl\n",
      "msddata882.pkl\n",
      "msddata883.pkl\n",
      "msddata884.pkl\n",
      "msddata885.pkl\n",
      "msddata886.pkl\n",
      "msddata887.pkl\n",
      "msddata888.pkl\n",
      "msddata889.pkl\n",
      "msddata89.pkl\n",
      "msddata890.pkl\n",
      "msddata891.pkl\n",
      "msddata892.pkl\n",
      "msddata893.pkl\n",
      "msddata894.pkl\n",
      "msddata895.pkl\n",
      "msddata896.pkl\n",
      "msddata897.pkl\n",
      "msddata898.pkl\n",
      "msddata899.pkl\n",
      "msddata9.pkl\n",
      "msddata90.pkl\n",
      "msddata900.pkl\n",
      "msddata901.pkl\n",
      "msddata902.pkl\n",
      "msddata903.pkl\n",
      "msddata904.pkl\n",
      "msddata905.pkl\n",
      "msddata906.pkl\n",
      "msddata907.pkl\n",
      "msddata908.pkl\n",
      "msddata909.pkl\n",
      "msddata91.pkl\n",
      "msddata910.pkl\n",
      "msddata911.pkl\n",
      "msddata912.pkl\n",
      "msddata913.pkl\n",
      "msddata914.pkl\n",
      "msddata915.pkl\n",
      "msddata916.pkl\n",
      "msddata917.pkl\n",
      "msddata918.pkl\n",
      "msddata919.pkl\n",
      "msddata92.pkl\n",
      "msddata920.pkl\n",
      "msddata921.pkl\n",
      "msddata922.pkl\n",
      "msddata923.pkl\n",
      "msddata924.pkl\n",
      "msddata925.pkl\n",
      "msddata926.pkl\n",
      "msddata927.pkl\n",
      "msddata928.pkl\n",
      "msddata929.pkl\n",
      "msddata93.pkl\n",
      "msddata930.pkl\n",
      "msddata931.pkl\n",
      "msddata932.pkl\n",
      "msddata933.pkl\n",
      "msddata934.pkl\n",
      "msddata935.pkl\n",
      "msddata936.pkl\n",
      "msddata937.pkl\n",
      "msddata938.pkl\n",
      "msddata939.pkl\n",
      "msddata94.pkl\n",
      "msddata940.pkl\n",
      "msddata941.pkl\n",
      "msddata942.pkl\n",
      "msddata943.pkl\n",
      "msddata944.pkl\n",
      "msddata945.pkl\n",
      "msddata946.pkl\n",
      "msddata947.pkl\n",
      "msddata948.pkl\n",
      "msddata949.pkl\n",
      "msddata95.pkl\n",
      "msddata950.pkl\n",
      "msddata951.pkl\n",
      "msddata952.pkl\n",
      "msddata953.pkl\n",
      "msddata954.pkl\n",
      "msddata955.pkl\n",
      "msddata956.pkl\n",
      "msddata957.pkl\n",
      "msddata958.pkl\n",
      "msddata959.pkl\n",
      "msddata96.pkl\n",
      "msddata960.pkl\n",
      "msddata961.pkl\n",
      "msddata962.pkl\n",
      "msddata963.pkl\n",
      "msddata964.pkl\n",
      "msddata965.pkl\n",
      "msddata966.pkl\n",
      "msddata967.pkl\n",
      "msddata968.pkl\n",
      "msddata969.pkl\n",
      "msddata97.pkl\n",
      "msddata970.pkl\n",
      "msddata971.pkl\n",
      "msddata972.pkl\n",
      "msddata973.pkl\n",
      "msddata974.pkl\n",
      "msddata975.pkl\n",
      "msddata976.pkl\n",
      "msddata977.pkl\n",
      "msddata978.pkl\n",
      "msddata979.pkl\n",
      "msddata98.pkl\n",
      "msddata980.pkl\n",
      "msddata981.pkl\n",
      "msddata982.pkl\n",
      "msddata983.pkl\n",
      "msddata984.pkl\n",
      "msddata985.pkl\n",
      "msddata986.pkl\n",
      "msddata987.pkl\n",
      "msddata988.pkl\n",
      "msddata989.pkl\n",
      "msddata99.pkl\n",
      "msddata990.pkl\n",
      "msddata991.pkl\n",
      "msddata992.pkl\n",
      "msddata993.pkl\n",
      "msddata994.pkl\n",
      "msddata995.pkl\n",
      "msddata996.pkl\n",
      "msddata997.pkl\n",
      "msddata998.pkl\n",
      "msddata999.pkl\n",
      "Original data (1000000, 33)\n"
     ]
    }
   ],
   "source": [
    "folder = DATA_DIR + 'chunks/'\n",
    "all_chunks = pd.DataFrame()\n",
    "# all_labels = pd.DataFrame()\n",
    "for entry in os.scandir(folder):\n",
    "    with open(entry.path, 'rb') as chunkf:\n",
    "        chunk_df = pickle.load(chunkf)\n",
    "        all_chunks = pd.concat([all_chunks, chunk_df])\n",
    "        print(entry.name)\n",
    "print('Original data', all_chunks.shape)"
   ]
  },
  {
   "cell_type": "code",
   "execution_count": 5,
   "metadata": {},
   "outputs": [
    {
     "data": {
      "text/html": [
       "<div>\n",
       "<style scoped>\n",
       "    .dataframe tbody tr th:only-of-type {\n",
       "        vertical-align: middle;\n",
       "    }\n",
       "\n",
       "    .dataframe tbody tr th {\n",
       "        vertical-align: top;\n",
       "    }\n",
       "\n",
       "    .dataframe thead th {\n",
       "        text-align: right;\n",
       "    }\n",
       "</style>\n",
       "<table border=\"1\" class=\"dataframe\">\n",
       "  <thead>\n",
       "    <tr style=\"text-align: right;\">\n",
       "      <th></th>\n",
       "      <th>analysis_sample_rate</th>\n",
       "      <th>artist_7digitalid</th>\n",
       "      <th>artist_familiarity</th>\n",
       "      <th>artist_hotttnesss</th>\n",
       "      <th>artist_id</th>\n",
       "      <th>artist_latitude</th>\n",
       "      <th>artist_location</th>\n",
       "      <th>artist_longitude</th>\n",
       "      <th>artist_mbid</th>\n",
       "      <th>artist_name</th>\n",
       "      <th>...</th>\n",
       "      <th>song_hotttnesss</th>\n",
       "      <th>song_id</th>\n",
       "      <th>start_of_fade_out</th>\n",
       "      <th>tempo</th>\n",
       "      <th>time_signature</th>\n",
       "      <th>time_signature_confidence</th>\n",
       "      <th>title</th>\n",
       "      <th>track_7digitalid</th>\n",
       "      <th>track_id</th>\n",
       "      <th>year</th>\n",
       "    </tr>\n",
       "  </thead>\n",
       "  <tbody>\n",
       "    <tr>\n",
       "      <th>0</th>\n",
       "      <td>22050.0</td>\n",
       "      <td>4069.0</td>\n",
       "      <td>0.649822</td>\n",
       "      <td>0.394032</td>\n",
       "      <td>b'ARYZTJS1187B98C555'</td>\n",
       "      <td>NaN</td>\n",
       "      <td>b''</td>\n",
       "      <td>NaN</td>\n",
       "      <td>b'357ff05d-848a-44cf-b608-cb34b5701ae5'</td>\n",
       "      <td>b'Faster Pussy cat'</td>\n",
       "      <td>...</td>\n",
       "      <td>0.542899</td>\n",
       "      <td>b'SOQMMHC12AB0180CB8'</td>\n",
       "      <td>236.635</td>\n",
       "      <td>87.002</td>\n",
       "      <td>4.0</td>\n",
       "      <td>0.940</td>\n",
       "      <td>b'Silent Night'</td>\n",
       "      <td>7032331.0</td>\n",
       "      <td>b'TRMMMYQ128F932D901'</td>\n",
       "      <td>2003.0</td>\n",
       "    </tr>\n",
       "    <tr>\n",
       "      <th>1</th>\n",
       "      <td>22050.0</td>\n",
       "      <td>113480.0</td>\n",
       "      <td>0.439604</td>\n",
       "      <td>0.356992</td>\n",
       "      <td>b'ARMVN3U1187FB3A1EB'</td>\n",
       "      <td>NaN</td>\n",
       "      <td>b''</td>\n",
       "      <td>NaN</td>\n",
       "      <td>b'8d7ef530-a6fd-4f8f-b2e2-74aec765e0f9'</td>\n",
       "      <td>b'Karkkiautomaatti'</td>\n",
       "      <td>...</td>\n",
       "      <td>0.299877</td>\n",
       "      <td>b'SOVFVAK12A8C1350D9'</td>\n",
       "      <td>148.660</td>\n",
       "      <td>150.778</td>\n",
       "      <td>1.0</td>\n",
       "      <td>0.000</td>\n",
       "      <td>b'Tanssi vaan'</td>\n",
       "      <td>1514808.0</td>\n",
       "      <td>b'TRMMMKD128F425225D'</td>\n",
       "      <td>1995.0</td>\n",
       "    </tr>\n",
       "    <tr>\n",
       "      <th>2</th>\n",
       "      <td>22050.0</td>\n",
       "      <td>63531.0</td>\n",
       "      <td>0.643681</td>\n",
       "      <td>0.437504</td>\n",
       "      <td>b'ARGEKB01187FB50750'</td>\n",
       "      <td>55.8578</td>\n",
       "      <td>b'Glasgow, Scotland'</td>\n",
       "      <td>-4.24251</td>\n",
       "      <td>b'3d403d44-36ce-465c-ad43-ae877e65adc4'</td>\n",
       "      <td>b'Hudson Mohawke'</td>\n",
       "      <td>...</td>\n",
       "      <td>0.617871</td>\n",
       "      <td>b'SOGTUKN12AB017F4F1'</td>\n",
       "      <td>138.971</td>\n",
       "      <td>177.768</td>\n",
       "      <td>4.0</td>\n",
       "      <td>0.446</td>\n",
       "      <td>b'No One Could Ever'</td>\n",
       "      <td>6945353.0</td>\n",
       "      <td>b'TRMMMRX128F93187D9'</td>\n",
       "      <td>2006.0</td>\n",
       "    </tr>\n",
       "    <tr>\n",
       "      <th>3</th>\n",
       "      <td>22050.0</td>\n",
       "      <td>65051.0</td>\n",
       "      <td>0.448501</td>\n",
       "      <td>0.372349</td>\n",
       "      <td>b'ARNWYLR1187B9B2F9C'</td>\n",
       "      <td>NaN</td>\n",
       "      <td>b''</td>\n",
       "      <td>NaN</td>\n",
       "      <td>b'12be7648-7094-495f-90e6-df4189d68615'</td>\n",
       "      <td>b'Yerba Brava'</td>\n",
       "      <td>...</td>\n",
       "      <td>NaN</td>\n",
       "      <td>b'SOBNYVR12A8C13558C'</td>\n",
       "      <td>138.687</td>\n",
       "      <td>87.433</td>\n",
       "      <td>4.0</td>\n",
       "      <td>0.000</td>\n",
       "      <td>b'Si Vos Quer\\xc3\\xa9s'</td>\n",
       "      <td>2168257.0</td>\n",
       "      <td>b'TRMMMCH128F425532C'</td>\n",
       "      <td>2003.0</td>\n",
       "    </tr>\n",
       "    <tr>\n",
       "      <th>4</th>\n",
       "      <td>22050.0</td>\n",
       "      <td>158279.0</td>\n",
       "      <td>0.000000</td>\n",
       "      <td>0.000000</td>\n",
       "      <td>b'AREQDTE1269FB37231'</td>\n",
       "      <td>NaN</td>\n",
       "      <td>b''</td>\n",
       "      <td>NaN</td>\n",
       "      <td>b''</td>\n",
       "      <td>b'Der Mystic'</td>\n",
       "      <td>...</td>\n",
       "      <td>NaN</td>\n",
       "      <td>b'SOHSBXH12A8C13B0DF'</td>\n",
       "      <td>506.717</td>\n",
       "      <td>140.035</td>\n",
       "      <td>4.0</td>\n",
       "      <td>0.315</td>\n",
       "      <td>b'Tangle Of Aspens'</td>\n",
       "      <td>2264873.0</td>\n",
       "      <td>b'TRMMMWA128F426B589'</td>\n",
       "      <td>0.0</td>\n",
       "    </tr>\n",
       "  </tbody>\n",
       "</table>\n",
       "<p>5 rows × 33 columns</p>\n",
       "</div>"
      ],
      "text/plain": [
       "   analysis_sample_rate  artist_7digitalid  artist_familiarity  \\\n",
       "0               22050.0             4069.0            0.649822   \n",
       "1               22050.0           113480.0            0.439604   \n",
       "2               22050.0            63531.0            0.643681   \n",
       "3               22050.0            65051.0            0.448501   \n",
       "4               22050.0           158279.0            0.000000   \n",
       "\n",
       "   artist_hotttnesss              artist_id  artist_latitude  \\\n",
       "0           0.394032  b'ARYZTJS1187B98C555'              NaN   \n",
       "1           0.356992  b'ARMVN3U1187FB3A1EB'              NaN   \n",
       "2           0.437504  b'ARGEKB01187FB50750'          55.8578   \n",
       "3           0.372349  b'ARNWYLR1187B9B2F9C'              NaN   \n",
       "4           0.000000  b'AREQDTE1269FB37231'              NaN   \n",
       "\n",
       "        artist_location  artist_longitude  \\\n",
       "0                   b''               NaN   \n",
       "1                   b''               NaN   \n",
       "2  b'Glasgow, Scotland'          -4.24251   \n",
       "3                   b''               NaN   \n",
       "4                   b''               NaN   \n",
       "\n",
       "                               artist_mbid          artist_name  ...  \\\n",
       "0  b'357ff05d-848a-44cf-b608-cb34b5701ae5'  b'Faster Pussy cat'  ...   \n",
       "1  b'8d7ef530-a6fd-4f8f-b2e2-74aec765e0f9'  b'Karkkiautomaatti'  ...   \n",
       "2  b'3d403d44-36ce-465c-ad43-ae877e65adc4'    b'Hudson Mohawke'  ...   \n",
       "3  b'12be7648-7094-495f-90e6-df4189d68615'       b'Yerba Brava'  ...   \n",
       "4                                      b''        b'Der Mystic'  ...   \n",
       "\n",
       "   song_hotttnesss                song_id  start_of_fade_out    tempo  \\\n",
       "0         0.542899  b'SOQMMHC12AB0180CB8'            236.635   87.002   \n",
       "1         0.299877  b'SOVFVAK12A8C1350D9'            148.660  150.778   \n",
       "2         0.617871  b'SOGTUKN12AB017F4F1'            138.971  177.768   \n",
       "3              NaN  b'SOBNYVR12A8C13558C'            138.687   87.433   \n",
       "4              NaN  b'SOHSBXH12A8C13B0DF'            506.717  140.035   \n",
       "\n",
       "   time_signature  time_signature_confidence                    title  \\\n",
       "0             4.0                      0.940          b'Silent Night'   \n",
       "1             1.0                      0.000           b'Tanssi vaan'   \n",
       "2             4.0                      0.446     b'No One Could Ever'   \n",
       "3             4.0                      0.000  b'Si Vos Quer\\xc3\\xa9s'   \n",
       "4             4.0                      0.315      b'Tangle Of Aspens'   \n",
       "\n",
       "   track_7digitalid               track_id    year  \n",
       "0         7032331.0  b'TRMMMYQ128F932D901'  2003.0  \n",
       "1         1514808.0  b'TRMMMKD128F425225D'  1995.0  \n",
       "2         6945353.0  b'TRMMMRX128F93187D9'  2006.0  \n",
       "3         2168257.0  b'TRMMMCH128F425532C'  2003.0  \n",
       "4         2264873.0  b'TRMMMWA128F426B589'     0.0  \n",
       "\n",
       "[5 rows x 33 columns]"
      ]
     },
     "execution_count": 5,
     "metadata": {},
     "output_type": "execute_result"
    }
   ],
   "source": [
    "all_chunks.head()"
   ]
  },
  {
   "cell_type": "code",
   "execution_count": 6,
   "metadata": {},
   "outputs": [
    {
     "data": {
      "text/plain": [
       "Index(['analysis_sample_rate', 'artist_7digitalid', 'artist_familiarity',\n",
       "       'artist_hotttnesss', 'artist_id', 'artist_latitude', 'artist_location',\n",
       "       'artist_longitude', 'artist_mbid', 'artist_name', 'artist_playmeid',\n",
       "       'audio_md5', 'danceability', 'duration', 'end_of_fade_in', 'energy',\n",
       "       'key', 'key_confidence', 'loudness', 'mode', 'mode_confidence',\n",
       "       'release', 'release_7digitalid', 'song_hotttnesss', 'song_id',\n",
       "       'start_of_fade_out', 'tempo', 'time_signature',\n",
       "       'time_signature_confidence', 'title', 'track_7digitalid', 'track_id',\n",
       "       'year'],\n",
       "      dtype='object')"
      ]
     },
     "execution_count": 6,
     "metadata": {},
     "output_type": "execute_result"
    }
   ],
   "source": [
    "all_chunks.columns"
   ]
  },
  {
   "cell_type": "code",
   "execution_count": 5,
   "metadata": {},
   "outputs": [
    {
     "data": {
      "text/html": [
       "<div>\n",
       "<style scoped>\n",
       "    .dataframe tbody tr th:only-of-type {\n",
       "        vertical-align: middle;\n",
       "    }\n",
       "\n",
       "    .dataframe tbody tr th {\n",
       "        vertical-align: top;\n",
       "    }\n",
       "\n",
       "    .dataframe thead th {\n",
       "        text-align: right;\n",
       "    }\n",
       "</style>\n",
       "<table border=\"1\" class=\"dataframe\">\n",
       "  <thead>\n",
       "    <tr style=\"text-align: right;\">\n",
       "      <th></th>\n",
       "      <th>title</th>\n",
       "      <th>lyrics</th>\n",
       "      <th>genre</th>\n",
       "    </tr>\n",
       "  </thead>\n",
       "  <tbody>\n",
       "    <tr>\n",
       "      <th>0</th>\n",
       "      <td>b'Ego Remix'</td>\n",
       "      <td>Oh baby, how you doing?\\nYou know I'm gonna cu...</td>\n",
       "      <td>Pop</td>\n",
       "    </tr>\n",
       "    <tr>\n",
       "      <th>1</th>\n",
       "      <td>b'Then Tell Me'</td>\n",
       "      <td>playin' everything so easy,\\nit's like you see...</td>\n",
       "      <td>Pop</td>\n",
       "    </tr>\n",
       "    <tr>\n",
       "      <th>2</th>\n",
       "      <td>b'Honesty'</td>\n",
       "      <td>If you search\\nFor tenderness\\nIt isn't hard t...</td>\n",
       "      <td>Pop</td>\n",
       "    </tr>\n",
       "    <tr>\n",
       "      <th>3</th>\n",
       "      <td>b'You Are My Rock'</td>\n",
       "      <td>Oh oh oh I, oh oh oh I\\n[Verse 1:]\\nIf I wrote...</td>\n",
       "      <td>Pop</td>\n",
       "    </tr>\n",
       "    <tr>\n",
       "      <th>4</th>\n",
       "      <td>b'Black Culture'</td>\n",
       "      <td>Party the people, the people the party it's po...</td>\n",
       "      <td>Pop</td>\n",
       "    </tr>\n",
       "  </tbody>\n",
       "</table>\n",
       "</div>"
      ],
      "text/plain": [
       "                title                                             lyrics genre\n",
       "0        b'Ego Remix'  Oh baby, how you doing?\\nYou know I'm gonna cu...   Pop\n",
       "1     b'Then Tell Me'  playin' everything so easy,\\nit's like you see...   Pop\n",
       "2          b'Honesty'  If you search\\nFor tenderness\\nIt isn't hard t...   Pop\n",
       "3  b'You Are My Rock'  Oh oh oh I, oh oh oh I\\n[Verse 1:]\\nIf I wrote...   Pop\n",
       "4    b'Black Culture'  Party the people, the people the party it's po...   Pop"
      ]
     },
     "execution_count": 5,
     "metadata": {},
     "output_type": "execute_result"
    }
   ],
   "source": [
    "#loading the lyrics csv file\n",
    "simple={}\n",
    "with open(DATA_DIR + 'lyrics.csv') as csv_file:\n",
    "    csv_reader = csv.reader(csv_file, delimiter=',')\n",
    "    line_count = 0\n",
    "    for row in csv_reader:\n",
    "        if(line_count == 0):\n",
    "            simple['title'] = []\n",
    "            simple['lyrics'] = []\n",
    "            simple['genre'] = []\n",
    "        else:\n",
    "            simple['title'].append(str.encode(row[1].replace(\"-\",' ').title()))\n",
    "            simple['lyrics'].append(row[5])\n",
    "            simple['genre'].append(row[4])\n",
    "        line_count += 1\n",
    "metrolyricsdf = pd.DataFrame.from_dict(simple)\n",
    "metrolyricsdf.head()"
   ]
  },
  {
   "cell_type": "code",
   "execution_count": 6,
   "metadata": {},
   "outputs": [
    {
     "name": "stdout",
     "output_type": "stream",
     "text": [
      "Shape after drop duplicates  (702429, 33)\n",
      "Shape after drop duplicates  (250473, 3)\n"
     ]
    }
   ],
   "source": [
    "all_chunks = all_chunks.drop_duplicates(subset=['title'], keep='last')\n",
    "metrolyricsdf = metrolyricsdf.drop_duplicates(subset=['title'], keep='last')\n",
    "print(\"Shape after drop duplicates \", all_chunks.shape)\n",
    "print(\"Shape after drop duplicates \", metrolyricsdf.shape)"
   ]
  },
  {
   "cell_type": "code",
   "execution_count": 23,
   "metadata": {},
   "outputs": [
    {
     "name": "stdout",
     "output_type": "stream",
     "text": [
      "(49658, 36)\n"
     ]
    }
   ],
   "source": [
    "#this matches titles and tells how many are in common\n",
    "final_chunks = pd.DataFrame()\n",
    "final_chunks = pd.merge(all_chunks, metrolyricsdf, on='title')\n",
    "final_chunks=final_chunks[final_chunks['lyrics'] != '']\n",
    "def lang(lyrics):\n",
    "    try:\n",
    "        a,b,c = cld2.detect(lyrics)\n",
    "        return c[0][1]\n",
    "    except:\n",
    "        return 'un'\n",
    "final_chunks['lang']= final_chunks.apply(lambda x: lang(x['lyrics']),axis=1)\n",
    "final_chunks=final_chunks[final_chunks['lang'] == 'en']\n",
    "print(final_chunks.shape)"
   ]
  },
  {
   "cell_type": "code",
   "execution_count": 24,
   "metadata": {},
   "outputs": [],
   "source": [
    "final_chunks.to_pickle(DATA_DIR + 'lyrics_genre_MSD_1000chunks.pickle')"
   ]
  },
  {
   "cell_type": "code",
   "execution_count": 10,
   "metadata": {},
   "outputs": [
    {
     "name": "stdout",
     "output_type": "stream",
     "text": [
      "Rows with no data:  185\n"
     ]
    },
    {
     "data": {
      "image/png": "[encoded data removed]",
      "text/plain": [
       "<Figure size 432x288 with 1 Axes>"
      ]
     },
     "metadata": {
      "needs_background": "light"
     },
     "output_type": "display_data"
    }
   ],
   "source": [
    "h = all_chunks['artist_familiarity']\n",
    "print(\"Rows with no data: \", h.isna().sum())\n",
    "h = h.dropna()\n",
    "sns.distplot(h, ax = ax)"
   ]
  },
  {
   "cell_type": "code",
   "execution_count": 11,
   "metadata": {},
   "outputs": [
    {
     "name": "stdout",
     "output_type": "stream",
     "text": [
      "Rows with no data:  12\n"
     ]
    },
    {
     "data": {
      "text/plain": [
       "<matplotlib.axes._subplots.AxesSubplot at 0x7f80f0373da0>"
      ]
     },
     "execution_count": 11,
     "metadata": {},
     "output_type": "execute_result"
    },
    {
     "data": {
      "image/png": "[encoded data removed]",
      "text/plain": [
       "<Figure size 432x288 with 1 Axes>"
      ]
     },
     "metadata": {
      "needs_background": "light"
     },
     "output_type": "display_data"
    }
   ],
   "source": [
    "h = all_chunks['artist_hotttnesss']\n",
    "print(\"Rows with no data: \", h.isna().sum())\n",
    "h = h.dropna()\n",
    "sns.distplot(h)"
   ]
  },
  {
   "cell_type": "code",
   "execution_count": 12,
   "metadata": {},
   "outputs": [
    {
     "name": "stdout",
     "output_type": "stream",
     "text": [
      "Rows with no data:  0\n"
     ]
    },
    {
     "data": {
      "text/plain": [
       "<matplotlib.axes._subplots.AxesSubplot at 0x7f80f02a1b00>"
      ]
     },
     "execution_count": 12,
     "metadata": {},
     "output_type": "execute_result"
    },
    {
     "data": {
      "image/png": "[encoded data removed]",
      "text/plain": [
       "<Figure size 432x288 with 1 Axes>"
      ]
     },
     "metadata": {
      "needs_background": "light"
     },
     "output_type": "display_data"
    }
   ],
   "source": [
    "h = all_chunks['duration']\n",
    "print(\"Rows with no data: \", h.isna().sum())\n",
    "h = h.dropna()\n",
    "sns.distplot(h)"
   ]
  },
  {
   "cell_type": "code",
   "execution_count": 14,
   "metadata": {},
   "outputs": [
    {
     "name": "stdout",
     "output_type": "stream",
     "text": [
      "Rows with no data:  0\n"
     ]
    },
    {
     "data": {
      "text/plain": [
       "<matplotlib.axes._subplots.AxesSubplot at 0x7f4dc6e87e10>"
      ]
     },
     "execution_count": 14,
     "metadata": {},
     "output_type": "execute_result"
    },
    {
     "data": {
      "image/png": "[encoded data removed]",
      "text/plain": [
       "<Figure size 432x288 with 1 Axes>"
      ]
     },
     "metadata": {
      "needs_background": "light"
     },
     "output_type": "display_data"
    }
   ],
   "source": [
    "h = all_chunks['end_of_fade_in']\n",
    "print(\"Rows with no data: \", h.isna().sum())\n",
    "h = h.dropna()\n",
    "sns.distplot(h)"
   ]
  },
  {
   "cell_type": "code",
   "execution_count": 13,
   "metadata": {},
   "outputs": [
    {
     "name": "stdout",
     "output_type": "stream",
     "text": [
      "Rows with no data:  0\n"
     ]
    },
    {
     "data": {
      "text/plain": [
       "<matplotlib.axes._subplots.AxesSubplot at 0x7f80f015c7b8>"
      ]
     },
     "execution_count": 13,
     "metadata": {},
     "output_type": "execute_result"
    },
    {
     "data": {
      "image/png": "[encoded data removed]",
      "text/plain": [
       "<Figure size 432x288 with 1 Axes>"
      ]
     },
     "metadata": {
      "needs_background": "light"
     },
     "output_type": "display_data"
    }
   ],
   "source": [
    "h = all_chunks['key']\n",
    "print(\"Rows with no data: \", h.isna().sum())\n",
    "h = h.dropna()\n",
    "sns.distplot(h)"
   ]
  },
  {
   "cell_type": "code",
   "execution_count": 16,
   "metadata": {},
   "outputs": [
    {
     "name": "stdout",
     "output_type": "stream",
     "text": [
      "Rows with no data:  0\n"
     ]
    },
    {
     "data": {
      "text/plain": [
       "<matplotlib.axes._subplots.AxesSubplot at 0x7f4dc6e51630>"
      ]
     },
     "execution_count": 16,
     "metadata": {},
     "output_type": "execute_result"
    },
    {
     "data": {
      "image/png": "[encoded data removed]",
      "text/plain": [
       "<Figure size 432x288 with 1 Axes>"
      ]
     },
     "metadata": {
      "needs_background": "light"
     },
     "output_type": "display_data"
    }
   ],
   "source": [
    "h = all_chunks['key_confidence']\n",
    "print(\"Rows with no data: \", h.isna().sum())\n",
    "h = h.dropna()\n",
    "sns.distplot(h)"
   ]
  },
  {
   "cell_type": "code",
   "execution_count": 14,
   "metadata": {},
   "outputs": [
    {
     "name": "stdout",
     "output_type": "stream",
     "text": [
      "Rows with no data:  0\n"
     ]
    },
    {
     "data": {
      "text/plain": [
       "<matplotlib.axes._subplots.AxesSubplot at 0x7f80f007b1d0>"
      ]
     },
     "execution_count": 14,
     "metadata": {},
     "output_type": "execute_result"
    },
    {
     "data": {
      "image/png": "[encoded data removed]",
      "text/plain": [
       "<Figure size 432x288 with 1 Axes>"
      ]
     },
     "metadata": {
      "needs_background": "light"
     },
     "output_type": "display_data"
    }
   ],
   "source": [
    "h = all_chunks['loudness']\n",
    "print(\"Rows with no data: \", h.isna().sum())\n",
    "h = h.dropna()\n",
    "sns.distplot(h)"
   ]
  },
  {
   "cell_type": "code",
   "execution_count": 15,
   "metadata": {},
   "outputs": [
    {
     "name": "stdout",
     "output_type": "stream",
     "text": [
      "Rows with no data:  0\n"
     ]
    },
    {
     "data": {
      "text/plain": [
       "<matplotlib.axes._subplots.AxesSubplot at 0x7f80e7134710>"
      ]
     },
     "execution_count": 15,
     "metadata": {},
     "output_type": "execute_result"
    },
    {
     "data": {
      "image/png": "[encoded data removed]",
      "text/plain": [
       "<Figure size 432x288 with 1 Axes>"
      ]
     },
     "metadata": {
      "needs_background": "light"
     },
     "output_type": "display_data"
    }
   ],
   "source": [
    "h = all_chunks['mode']\n",
    "print(\"Rows with no data: \", h.isna().sum())\n",
    "h = h.dropna()\n",
    "sns.distplot(h)"
   ]
  },
  {
   "cell_type": "code",
   "execution_count": 19,
   "metadata": {},
   "outputs": [
    {
     "name": "stdout",
     "output_type": "stream",
     "text": [
      "Rows with no data:  0\n"
     ]
    },
    {
     "data": {
      "text/plain": [
       "<matplotlib.axes._subplots.AxesSubplot at 0x7f4dc40bbb00>"
      ]
     },
     "execution_count": 19,
     "metadata": {},
     "output_type": "execute_result"
    },
    {
     "data": {
      "image/png": "[encoded data removed]",
      "text/plain": [
       "<Figure size 432x288 with 1 Axes>"
      ]
     },
     "metadata": {
      "needs_background": "light"
     },
     "output_type": "display_data"
    }
   ],
   "source": [
    "h = all_chunks['mode_confidence']\n",
    "print(\"Rows with no data: \", h.isna().sum())\n",
    "h = h.dropna()\n",
    "sns.distplot(h)"
   ]
  },
  {
   "cell_type": "code",
   "execution_count": 16,
   "metadata": {},
   "outputs": [
    {
     "name": "stdout",
     "output_type": "stream",
     "text": [
      "Rows with no data:  418035\n"
     ]
    },
    {
     "data": {
      "text/plain": [
       "<matplotlib.axes._subplots.AxesSubplot at 0x7f80e7134b38>"
      ]
     },
     "execution_count": 16,
     "metadata": {},
     "output_type": "execute_result"
    },
    {
     "data": {
      "image/png": "[encoded data removed]",
      "text/plain": [
       "<Figure size 432x288 with 1 Axes>"
      ]
     },
     "metadata": {
      "needs_background": "light"
     },
     "output_type": "display_data"
    }
   ],
   "source": [
    "h = all_chunks['song_hotttnesss']\n",
    "print(\"Rows with no data: \", h.isna().sum())\n",
    "h = h.dropna()\n",
    "sns.distplot(h)"
   ]
  },
  {
   "cell_type": "code",
   "execution_count": 21,
   "metadata": {},
   "outputs": [
    {
     "name": "stdout",
     "output_type": "stream",
     "text": [
      "Rows with no data:  0\n"
     ]
    },
    {
     "data": {
      "text/plain": [
       "<matplotlib.axes._subplots.AxesSubplot at 0x7f4dc3f06a58>"
      ]
     },
     "execution_count": 21,
     "metadata": {},
     "output_type": "execute_result"
    },
    {
     "data": {
      "image/png": "[encoded data removed]",
      "text/plain": [
       "<Figure size 432x288 with 1 Axes>"
      ]
     },
     "metadata": {
      "needs_background": "light"
     },
     "output_type": "display_data"
    }
   ],
   "source": [
    "h = all_chunks['start_of_fade_out']\n",
    "print(\"Rows with no data: \", h.isna().sum())\n",
    "h = h.dropna()\n",
    "sns.distplot(h)"
   ]
  },
  {
   "cell_type": "code",
   "execution_count": 17,
   "metadata": {},
   "outputs": [
    {
     "name": "stdout",
     "output_type": "stream",
     "text": [
      "Rows with no data:  0\n"
     ]
    },
    {
     "data": {
      "text/plain": [
       "<matplotlib.axes._subplots.AxesSubplot at 0x7f80e6f787f0>"
      ]
     },
     "execution_count": 17,
     "metadata": {},
     "output_type": "execute_result"
    },
    {
     "data": {
      "image/png": "[encoded data removed]",
      "text/plain": [
       "<Figure size 432x288 with 1 Axes>"
      ]
     },
     "metadata": {
      "needs_background": "light"
     },
     "output_type": "display_data"
    }
   ],
   "source": [
    "h = all_chunks['tempo']\n",
    "print(\"Rows with no data: \", h.isna().sum())\n",
    "h = h.dropna()\n",
    "sns.distplot(h)"
   ]
  },
  {
   "cell_type": "code",
   "execution_count": 23,
   "metadata": {},
   "outputs": [
    {
     "name": "stdout",
     "output_type": "stream",
     "text": [
      "Rows with no data:  0\n"
     ]
    },
    {
     "data": {
      "text/plain": [
       "<matplotlib.axes._subplots.AxesSubplot at 0x7f4dc3d416a0>"
      ]
     },
     "execution_count": 23,
     "metadata": {},
     "output_type": "execute_result"
    },
    {
     "data": {
      "image/png": "[encoded data removed]",
      "text/plain": [
       "<Figure size 432x288 with 1 Axes>"
      ]
     },
     "metadata": {
      "needs_background": "light"
     },
     "output_type": "display_data"
    }
   ],
   "source": [
    "h = all_chunks['time_signature']\n",
    "print(\"Rows with no data: \", h.isna().sum())\n",
    "h = h.dropna()\n",
    "sns.distplot(h)"
   ]
  },
  {
   "cell_type": "code",
   "execution_count": 24,
   "metadata": {},
   "outputs": [
    {
     "name": "stdout",
     "output_type": "stream",
     "text": [
      "Rows with no data:  0\n"
     ]
    },
    {
     "data": {
      "text/plain": [
       "<matplotlib.axes._subplots.AxesSubplot at 0x7f4ddcf65048>"
      ]
     },
     "execution_count": 24,
     "metadata": {},
     "output_type": "execute_result"
    },
    {
     "data": {
      "image/png": "[encoded data removed]",
      "text/plain": [
       "<Figure size 432x288 with 1 Axes>"
      ]
     },
     "metadata": {
      "needs_background": "light"
     },
     "output_type": "display_data"
    }
   ],
   "source": [
    "h = all_chunks['time_signature_confidence']\n",
    "print(\"Rows with no data: \", h.isna().sum())\n",
    "h = h.dropna()\n",
    "sns.distplot(h)"
   ]
  },
  {
   "cell_type": "code",
   "execution_count": 25,
   "metadata": {},
   "outputs": [
    {
     "name": "stdout",
     "output_type": "stream",
     "text": [
      "Rows with no data:  0\n"
     ]
    },
    {
     "data": {
      "text/plain": [
       "<matplotlib.axes._subplots.AxesSubplot at 0x7f4dc3b11588>"
      ]
     },
     "execution_count": 25,
     "metadata": {},
     "output_type": "execute_result"
    },
    {
     "data": {
      "image/png": "[encoded data removed]",
      "text/plain": [
       "<Figure size 432x288 with 1 Axes>"
      ]
     },
     "metadata": {
      "needs_background": "light"
     },
     "output_type": "display_data"
    }
   ],
   "source": [
    "h = all_chunks['year']\n",
    "print(\"Rows with no data: \", h.isna().sum())\n",
    "h = h.dropna()\n",
    "sns.distplot(h)"
   ]
  },
  {
   "cell_type": "code",
   "execution_count": 19,
   "metadata": {},
   "outputs": [
    {
     "data": {
      "text/plain": [
       "<matplotlib.axes._subplots.AxesSubplot at 0x7f80f066f2b0>"
      ]
     },
     "execution_count": 19,
     "metadata": {},
     "output_type": "execute_result"
    },
    {
     "data": {
      "image/png": "[encoded data removed]",
      "text/plain": [
       "<Figure size 1800x720 with 2 Axes>"
      ]
     },
     "metadata": {
      "needs_background": "light"
     },
     "output_type": "display_data"
    }
   ],
   "source": [
    "msno.matrix(all_chunks)"
   ]
  },
  {
   "cell_type": "code",
   "execution_count": 20,
   "metadata": {},
   "outputs": [
    {
     "data": {
      "text/plain": [
       "<matplotlib.axes._subplots.AxesSubplot at 0x7f80e6f66390>"
      ]
     },
     "execution_count": 20,
     "metadata": {},
     "output_type": "execute_result"
    },
    {
     "data": {
      "image/png": "[encoded data removed]",
      "text/plain": [
       "<Figure size 1440x864 with 2 Axes>"
      ]
     },
     "metadata": {
      "needs_background": "light"
     },
     "output_type": "display_data"
    }
   ],
   "source": [
    "msno.heatmap(all_chunks)"
   ]
  },
  {
   "cell_type": "code",
   "execution_count": 21,
   "metadata": {},
   "outputs": [],
   "source": [
    "all_chunks.to_pickle('data/msddata_1000chunks.pkl') "
   ]
  }
 ],
 "metadata": {
  "kernelspec": {
   "display_name": "Python 3",
   "language": "python",
   "name": "python3"
  },
  "language_info": {
   "codemirror_mode": {
    "name": "ipython",
    "version": 3
   },
   "file_extension": ".py",
   "mimetype": "text/x-python",
   "name": "python",
   "nbconvert_exporter": "python",
   "pygments_lexer": "ipython3",
   "version": "3.7.3"
  }
 },
 "nbformat": 4,
 "nbformat_minor": 2
}
