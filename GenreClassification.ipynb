{
 "cells": [
  {
   "cell_type": "markdown",
   "metadata": {},
   "source": [
    "### Genre Classification from Lyrics"
   ]
  },
  {
   "cell_type": "code",
   "execution_count": 1,
   "metadata": {},
   "outputs": [],
   "source": [
    "import numpy as np\n",
    "import pandas as pd\n",
    "import os\n",
    "import pickle\n",
    "from matplotlib import pyplot as plt\n",
    "import seaborn as sns\n",
    "import re\n",
    "from sklearn.model_selection import train_test_split\n",
    "from sklearn.metrics import accuracy_score\n",
    "from sklearn.feature_selection import SelectFromModel\n",
    "DATA_DIR=\"data/\"\n",
    "from sklearn.preprocessing import LabelEncoder\n",
    "import time"
   ]
  },
  {
   "cell_type": "code",
   "execution_count": 2,
   "metadata": {},
   "outputs": [
    {
     "name": "stdout",
     "output_type": "stream",
     "text": [
      "(46213, 13)\n"
     ]
    },
    {
     "data": {
      "text/html": [
       "<div>\n",
       "<style scoped>\n",
       "    .dataframe tbody tr th:only-of-type {\n",
       "        vertical-align: middle;\n",
       "    }\n",
       "\n",
       "    .dataframe tbody tr th {\n",
       "        vertical-align: top;\n",
       "    }\n",
       "\n",
       "    .dataframe thead th {\n",
       "        text-align: right;\n",
       "    }\n",
       "</style>\n",
       "<table border=\"1\" class=\"dataframe\">\n",
       "  <thead>\n",
       "    <tr style=\"text-align: right;\">\n",
       "      <th></th>\n",
       "      <th>tempo</th>\n",
       "      <th>artist_familiarity</th>\n",
       "      <th>mode</th>\n",
       "      <th>loudness</th>\n",
       "      <th>artist_hotttnesss</th>\n",
       "      <th>key_confidence</th>\n",
       "      <th>end_of_fade_in</th>\n",
       "      <th>start_of_fade_out</th>\n",
       "      <th>duration</th>\n",
       "      <th>time_signature</th>\n",
       "      <th>key</th>\n",
       "      <th>song_hotttnesss</th>\n",
       "      <th>genre</th>\n",
       "    </tr>\n",
       "  </thead>\n",
       "  <tbody>\n",
       "    <tr>\n",
       "      <th>0</th>\n",
       "      <td>90.008</td>\n",
       "      <td>0.602216</td>\n",
       "      <td>1.0</td>\n",
       "      <td>-11.738</td>\n",
       "      <td>0.349761</td>\n",
       "      <td>0.283</td>\n",
       "      <td>0.136</td>\n",
       "      <td>234.516</td>\n",
       "      <td>258.63791</td>\n",
       "      <td>4.0</td>\n",
       "      <td>10.0</td>\n",
       "      <td>0.516346</td>\n",
       "      <td>Rock</td>\n",
       "    </tr>\n",
       "    <tr>\n",
       "      <th>2</th>\n",
       "      <td>137.122</td>\n",
       "      <td>0.835272</td>\n",
       "      <td>1.0</td>\n",
       "      <td>-6.338</td>\n",
       "      <td>0.741724</td>\n",
       "      <td>0.859</td>\n",
       "      <td>0.218</td>\n",
       "      <td>195.802</td>\n",
       "      <td>204.72118</td>\n",
       "      <td>4.0</td>\n",
       "      <td>2.0</td>\n",
       "      <td>0.826612</td>\n",
       "      <td>Rock</td>\n",
       "    </tr>\n",
       "    <tr>\n",
       "      <th>3</th>\n",
       "      <td>165.035</td>\n",
       "      <td>0.653299</td>\n",
       "      <td>1.0</td>\n",
       "      <td>-4.635</td>\n",
       "      <td>0.482431</td>\n",
       "      <td>0.571</td>\n",
       "      <td>0.000</td>\n",
       "      <td>206.861</td>\n",
       "      <td>232.98567</td>\n",
       "      <td>4.0</td>\n",
       "      <td>0.0</td>\n",
       "      <td>0.702800</td>\n",
       "      <td>Metal</td>\n",
       "    </tr>\n",
       "    <tr>\n",
       "      <th>8</th>\n",
       "      <td>135.065</td>\n",
       "      <td>0.532842</td>\n",
       "      <td>1.0</td>\n",
       "      <td>-6.664</td>\n",
       "      <td>0.407992</td>\n",
       "      <td>0.474</td>\n",
       "      <td>0.356</td>\n",
       "      <td>184.477</td>\n",
       "      <td>190.98077</td>\n",
       "      <td>4.0</td>\n",
       "      <td>9.0</td>\n",
       "      <td>0.604205</td>\n",
       "      <td>Pop</td>\n",
       "    </tr>\n",
       "    <tr>\n",
       "      <th>12</th>\n",
       "      <td>163.886</td>\n",
       "      <td>0.834539</td>\n",
       "      <td>0.0</td>\n",
       "      <td>-9.071</td>\n",
       "      <td>0.477311</td>\n",
       "      <td>0.511</td>\n",
       "      <td>0.061</td>\n",
       "      <td>152.868</td>\n",
       "      <td>152.86812</td>\n",
       "      <td>4.0</td>\n",
       "      <td>1.0</td>\n",
       "      <td>0.651125</td>\n",
       "      <td>Hip-Hop</td>\n",
       "    </tr>\n",
       "  </tbody>\n",
       "</table>\n",
       "</div>"
      ],
      "text/plain": [
       "      tempo  artist_familiarity  mode  loudness  artist_hotttnesss  \\\n",
       "0    90.008            0.602216   1.0   -11.738           0.349761   \n",
       "2   137.122            0.835272   1.0    -6.338           0.741724   \n",
       "3   165.035            0.653299   1.0    -4.635           0.482431   \n",
       "8   135.065            0.532842   1.0    -6.664           0.407992   \n",
       "12  163.886            0.834539   0.0    -9.071           0.477311   \n",
       "\n",
       "    key_confidence  end_of_fade_in  start_of_fade_out   duration  \\\n",
       "0            0.283           0.136            234.516  258.63791   \n",
       "2            0.859           0.218            195.802  204.72118   \n",
       "3            0.571           0.000            206.861  232.98567   \n",
       "8            0.474           0.356            184.477  190.98077   \n",
       "12           0.511           0.061            152.868  152.86812   \n",
       "\n",
       "    time_signature   key  song_hotttnesss    genre  \n",
       "0              4.0  10.0         0.516346     Rock  \n",
       "2              4.0   2.0         0.826612     Rock  \n",
       "3              4.0   0.0         0.702800    Metal  \n",
       "8              4.0   9.0         0.604205      Pop  \n",
       "12             4.0   1.0         0.651125  Hip-Hop  "
      ]
     },
     "execution_count": 2,
     "metadata": {},
     "output_type": "execute_result"
    }
   ],
   "source": [
    "with open(DATA_DIR+\"lyrics_genre_MSD_1000chunks.pickle\",\"rb\") as f:\n",
    "    data=pickle.load(f)\n",
    "data=data[['tempo', 'artist_familiarity', 'mode', 'loudness', 'artist_hotttnesss', 'key_confidence', 'end_of_fade_in', 'start_of_fade_out', 'duration', 'time_signature', 'key', 'song_hotttnesss','genre']]\n",
    "data = data[(data.genre != 'Not Available') & (data.genre != 'Other')]\n",
    "print(data.shape)\n",
    "data.head()"
   ]
  },
  {
   "cell_type": "code",
   "execution_count": 3,
   "metadata": {},
   "outputs": [
    {
     "name": "stdout",
     "output_type": "stream",
     "text": [
      "Original data (49658, 13)\n",
      "Lyrics doc2vec data (49658, 300)\n"
     ]
    }
   ],
   "source": [
    "data = pd.DataFrame()\n",
    "with open('data/lyrics_genre_MSD_1000chunks.pickle', 'rb') as dataFile:\n",
    "    data = pickle.load(dataFile)\n",
    "data = data[['genre', 'tempo', 'artist_familiarity', 'mode', 'loudness', 'artist_hotttnesss', 'key_confidence', 'end_of_fade_in', 'start_of_fade_out', 'duration', 'time_signature', 'key', 'song_hotttnesss']]\n",
    "\n",
    "print('Original data', data.shape)\n",
    "arr=np.load(\"data/feature_vectors.npy\")\n",
    "dataf=pd.DataFrame(arr,index=None,columns=None)\n",
    "print(\"Lyrics doc2vec data\", dataf.shape)"
   ]
  },
  {
   "cell_type": "code",
   "execution_count": 4,
   "metadata": {},
   "outputs": [],
   "source": [
    "le = LabelEncoder()\n",
    "data['genre'] = le.fit_transform(data['genre'])        "
   ]
  },
  {
   "cell_type": "code",
   "execution_count": 5,
   "metadata": {},
   "outputs": [],
   "source": [
    "df=pd.concat([data.reset_index(drop=True),dataf.reset_index(drop=True)],axis=1)\n",
    "df=df.dropna()\n",
    "y_data = df[['genre']].values.flatten()\n",
    "df = df.drop(columns=[\"genre\"])"
   ]
  },
  {
   "cell_type": "code",
   "execution_count": 6,
   "metadata": {},
   "outputs": [
    {
     "data": {
      "text/plain": [
       "(34294, 312)"
      ]
     },
     "execution_count": 6,
     "metadata": {},
     "output_type": "execute_result"
    }
   ],
   "source": [
    "dmatrix = df.values\n",
    "dmatrix.shape\n",
    "df=df.dropna()\n",
    "df.shape"
   ]
  },
  {
   "cell_type": "code",
   "execution_count": 7,
   "metadata": {},
   "outputs": [],
   "source": [
    "cX = (dmatrix - np.mean(dmatrix, axis=0))/np.std(dmatrix, axis=0)\n",
    "x_train, x_test, y_train, y_test = train_test_split(cX, y_data, test_size=0.6, random_state=42)"
   ]
  },
  {
   "cell_type": "code",
   "execution_count": 8,
   "metadata": {},
   "outputs": [
    {
     "data": {
      "text/plain": [
       "array([ 0,  1,  2,  3,  4,  5,  6,  7,  8,  9, 10, 11])"
      ]
     },
     "execution_count": 8,
     "metadata": {},
     "output_type": "execute_result"
    }
   ],
   "source": [
    "classes = np.unique(y_data)\n",
    "classes"
   ]
  },
  {
   "cell_type": "markdown",
   "metadata": {},
   "source": [
    "### Classification Models"
   ]
  },
  {
   "cell_type": "code",
   "execution_count": 9,
   "metadata": {},
   "outputs": [],
   "source": [
    "from sklearn.linear_model import LogisticRegression\n",
    "from sklearn.svm import SVC\n",
    "from sklearn.neighbors import KNeighborsClassifier\n",
    "from sklearn import tree\n",
    "from sklearn.neural_network import MLPClassifier\n",
    "from sklearn.neighbors import KNeighborsClassifier\n",
    "from sklearn.ensemble import GradientBoostingClassifier\n",
    "from sklearn.gaussian_process.kernels import RBF\n",
    "from sklearn.ensemble import RandomForestClassifier\n",
    "from sklearn.naive_bayes import GaussianNB\n",
    "from sklearn.ensemble import AdaBoostClassifier\n",
    "from sklearn.datasets import make_classification\n",
    "from sklearn.discriminant_analysis import QuadraticDiscriminantAnalysis\n",
    "from sklearn.gaussian_process import GaussianProcessClassifier"
   ]
  },
  {
   "cell_type": "code",
   "execution_count": 14,
   "metadata": {},
   "outputs": [
    {
     "name": "stdout",
     "output_type": "stream",
     "text": [
      "Train Score: 0.25647007363126045\n",
      "Test Score: 0.18919181610536034\n"
     ]
    }
   ],
   "source": [
    "classifier = LogisticRegression(class_weight=\"balanced\", solver=\"lbfgs\", multi_class='multinomial', max_iter=1000)\n",
    "classifier.fit(x_train, y_train)\n",
    "train_score = classifier.score(x_train, y_train)\n",
    "test_score = classifier.score(x_test, y_test)\n",
    "print(\"Train Score:\", train_score)\n",
    "print(\"Test Score:\", test_score)"
   ]
  },
  {
   "cell_type": "code",
   "execution_count": 15,
   "metadata": {},
   "outputs": [
    {
     "name": "stdout",
     "output_type": "stream",
     "text": [
      "Train Score: 0.5494641685499745\n",
      "Test Score: 0.38834621178986245\n"
     ]
    }
   ],
   "source": [
    "classifier = KNeighborsClassifier()\n",
    "classifier.fit(x_train, y_train)\n",
    "train_score = classifier.score(x_train, y_train)\n",
    "test_score = classifier.score(x_test, y_test)\n",
    "print(\"Train Score:\", train_score)\n",
    "print(\"Test Score:\", test_score)"
   ]
  },
  {
   "cell_type": "code",
   "execution_count": 16,
   "metadata": {},
   "outputs": [
    {
     "name": "stdout",
     "output_type": "stream",
     "text": [
      "Train Score: 0.5232922650725377\n",
      "Test Score: 0.2928026437284347\n"
     ]
    }
   ],
   "source": [
    "classifier = SVC(class_weight=\"balanced\", gamma=\"scale\")\n",
    "classifier.fit(x_train, y_train)\n",
    "train_score = classifier.score(x_train, y_train)\n",
    "test_score = classifier.score(x_test, y_test)\n",
    "print(\"Train Score:\", train_score)\n",
    "print(\"Test Score:\", test_score)"
   ]
  },
  {
   "cell_type": "code",
   "execution_count": null,
   "metadata": {},
   "outputs": [],
   "source": [
    "classifier = GradientBoostingClassifier(n_estimators=100)\n",
    "classifier.fit(x_train, y_train)\n",
    "train_score = classifier.score(x_train, y_train)\n",
    "test_score = classifier.score(x_test, y_test)\n",
    "print(\"Train Score:\", train_score)\n",
    "print(\"Test Score:\", test_score)"
   ]
  },
  {
   "cell_type": "code",
   "execution_count": 17,
   "metadata": {},
   "outputs": [
    {
     "name": "stdout",
     "output_type": "stream",
     "text": [
      "Train Score: 1.0\n",
      "Test Score: 0.293726004762599\n"
     ]
    }
   ],
   "source": [
    "classifier = tree.DecisionTreeClassifier(class_weight=\"balanced\")\n",
    "classifier.fit(x_train, y_train)\n",
    "train_score = classifier.score(x_train, y_train)\n",
    "test_score = classifier.score(x_test, y_test)\n",
    "print(\"Train Score:\", train_score)\n",
    "print(\"Test Score:\", test_score)"
   ]
  },
  {
   "cell_type": "code",
   "execution_count": 19,
   "metadata": {},
   "outputs": [
    {
     "name": "stdout",
     "output_type": "stream",
     "text": [
      "Train Score: 1.0\n",
      "Test Score: 0.4767944792729747\n"
     ]
    }
   ],
   "source": [
    "classifier = RandomForestClassifier(class_weight=\"balanced\", n_estimators=100)\n",
    "classifier.fit(x_train, y_train)\n",
    "train_score = classifier.score(x_train, y_train)\n",
    "test_score = classifier.score(x_test, y_test)\n",
    "print(\"Train Score:\", train_score)\n",
    "print(\"Test Score:\", test_score)"
   ]
  },
  {
   "cell_type": "code",
   "execution_count": 20,
   "metadata": {},
   "outputs": [
    {
     "name": "stdout",
     "output_type": "stream",
     "text": [
      "Train Score: 0.754683968797842\n",
      "Test Score: 0.46279826991300965\n"
     ]
    },
    {
     "name": "stderr",
     "output_type": "stream",
     "text": [
      "/home/prangupt/.local/lib/python3.7/site-packages/sklearn/neural_network/multilayer_perceptron.py:566: ConvergenceWarning: Stochastic Optimizer: Maximum iterations (200) reached and the optimization hasn't converged yet.\n",
      "  % self.max_iter, ConvergenceWarning)\n"
     ]
    }
   ],
   "source": [
    "classifier = MLPClassifier(alpha = 1)\n",
    "classifier.fit(x_train, y_train)\n",
    "train_score = classifier.score(x_train, y_train)\n",
    "test_score = classifier.score(x_test, y_test)\n",
    "print(\"Train Score:\", train_score)\n",
    "print(\"Test Score:\", test_score)"
   ]
  },
  {
   "cell_type": "code",
   "execution_count": 21,
   "metadata": {},
   "outputs": [
    {
     "name": "stdout",
     "output_type": "stream",
     "text": [
      "Train Score: 0.20952103229569147\n",
      "Test Score: 0.2075132429411479\n"
     ]
    }
   ],
   "source": [
    "classifier = GaussianNB()\n",
    "classifier.fit(x_train, y_train)\n",
    "train_score = classifier.score(x_train, y_train)\n",
    "test_score = classifier.score(x_test, y_test)\n",
    "print(\"Train Score:\", train_score)\n",
    "print(\"Test Score:\", test_score)"
   ]
  },
  {
   "cell_type": "code",
   "execution_count": 22,
   "metadata": {},
   "outputs": [
    {
     "name": "stdout",
     "output_type": "stream",
     "text": [
      "Train Score: 0.49019464897572357\n",
      "Test Score: 0.4794187685279681\n"
     ]
    }
   ],
   "source": [
    "classifier = AdaBoostClassifier()\n",
    "classifier.fit(x_train, y_train)\n",
    "train_score = classifier.score(x_train, y_train)\n",
    "test_score = classifier.score(x_test, y_test)\n",
    "print(\"Train Score:\", train_score)\n",
    "print(\"Test Score:\", test_score)"
   ]
  },
  {
   "cell_type": "code",
   "execution_count": 23,
   "metadata": {},
   "outputs": [
    {
     "name": "stderr",
     "output_type": "stream",
     "text": [
      "/home/prangupt/.local/lib/python3.7/site-packages/sklearn/discriminant_analysis.py:693: UserWarning: Variables are collinear\n",
      "  warnings.warn(\"Variables are collinear\")\n"
     ]
    },
    {
     "name": "stdout",
     "output_type": "stream",
     "text": [
      "Train Score: 0.7804184588466866\n",
      "Test Score: 0.41837974437478737\n"
     ]
    }
   ],
   "source": [
    "classifier = QuadraticDiscriminantAnalysis()\n",
    "classifier.fit(x_train, y_train)\n",
    "train_score = classifier.score(x_train, y_train)\n",
    "test_score = classifier.score(x_test, y_test)\n",
    "print(\"Train Score:\", train_score)\n",
    "print(\"Test Score:\", test_score)"
   ]
  },
  {
   "cell_type": "code",
   "execution_count": null,
   "metadata": {},
   "outputs": [],
   "source": [
    "classifier = GaussianProcessClassifier()\n",
    "classifier.fit(x_train, y_train)\n",
    "train_score = classifier.score(x_train, y_train)\n",
    "test_score = classifier.score(x_test, y_test)\n",
    "print(\"Train Score:\", train_score)\n",
    "print(\"Test Score:\", test_score)"
   ]
  }
 ],
 "metadata": {
  "kernelspec": {
   "display_name": "Python 3",
   "language": "python",
   "name": "python3"
  },
  "language_info": {
   "codemirror_mode": {
    "name": "ipython",
    "version": 3
   },
   "file_extension": ".py",
   "mimetype": "text/x-python",
   "name": "python",
   "nbconvert_exporter": "python",
   "pygments_lexer": "ipython3",
   "version": "3.7.3"
  }
 },
 "nbformat": 4,
 "nbformat_minor": 2
}
