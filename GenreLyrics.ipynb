{
 "cells": [
  {
   "cell_type": "code",
   "execution_count": 15,
   "metadata": {},
   "outputs": [],
   "source": [
    "import numpy as np\n",
    "import pandas as pd\n",
    "import os\n",
    "import pickle\n",
    "from matplotlib import pyplot as plt\n",
    "import seaborn as sns\n",
    "import re"
   ]
  },
  {
   "cell_type": "code",
   "execution_count": 16,
   "metadata": {},
   "outputs": [
    {
     "name": "stdout",
     "output_type": "stream",
     "text": [
      "Original data (49658, 36)\n"
     ]
    }
   ],
   "source": [
    "all_chunks = pd.DataFrame()\n",
    "with open('data/lyrics_genre_MSD_1000chunks.pickle', 'rb') as dataFile:\n",
    "    all_chunks = pickle.load(dataFile)\n",
    "print('Original data', all_chunks.shape)"
   ]
  },
  {
   "cell_type": "code",
   "execution_count": 17,
   "metadata": {},
   "outputs": [
    {
     "data": {
      "text/html": [
       "<div>\n",
       "<style scoped>\n",
       "    .dataframe tbody tr th:only-of-type {\n",
       "        vertical-align: middle;\n",
       "    }\n",
       "\n",
       "    .dataframe tbody tr th {\n",
       "        vertical-align: top;\n",
       "    }\n",
       "\n",
       "    .dataframe thead th {\n",
       "        text-align: right;\n",
       "    }\n",
       "</style>\n",
       "<table border=\"1\" class=\"dataframe\">\n",
       "  <thead>\n",
       "    <tr style=\"text-align: right;\">\n",
       "      <th></th>\n",
       "      <th>song_id</th>\n",
       "      <th>lyrics</th>\n",
       "      <th>genre</th>\n",
       "    </tr>\n",
       "  </thead>\n",
       "  <tbody>\n",
       "    <tr>\n",
       "      <th>0</th>\n",
       "      <td>b'SOLQSFQ12A8C137FA1'</td>\n",
       "      <td>We see life through the same lens\\nThat's what...</td>\n",
       "      <td>Rock</td>\n",
       "    </tr>\n",
       "    <tr>\n",
       "      <th>2</th>\n",
       "      <td>b'SOSFSWB12AB018C99A'</td>\n",
       "      <td>My gears they grind\\nMore each day\\nAnd I feel...</td>\n",
       "      <td>Rock</td>\n",
       "    </tr>\n",
       "    <tr>\n",
       "      <th>3</th>\n",
       "      <td>b'SOVYLKF12AF72A6369'</td>\n",
       "      <td>Made of metal, made of metal, made of metal, m...</td>\n",
       "      <td>Metal</td>\n",
       "    </tr>\n",
       "    <tr>\n",
       "      <th>8</th>\n",
       "      <td>b'SOPSJQH12A8C134466'</td>\n",
       "      <td>All my life\\nIt's changing every day\\nIn every...</td>\n",
       "      <td>Pop</td>\n",
       "    </tr>\n",
       "    <tr>\n",
       "      <th>12</th>\n",
       "      <td>b'SOBHAQS12A8C142CA6'</td>\n",
       "      <td>Who put the monkey wrench in well oiled prefec...</td>\n",
       "      <td>Hip-Hop</td>\n",
       "    </tr>\n",
       "  </tbody>\n",
       "</table>\n",
       "</div>"
      ],
      "text/plain": [
       "                  song_id                                             lyrics  \\\n",
       "0   b'SOLQSFQ12A8C137FA1'  We see life through the same lens\\nThat's what...   \n",
       "2   b'SOSFSWB12AB018C99A'  My gears they grind\\nMore each day\\nAnd I feel...   \n",
       "3   b'SOVYLKF12AF72A6369'  Made of metal, made of metal, made of metal, m...   \n",
       "8   b'SOPSJQH12A8C134466'  All my life\\nIt's changing every day\\nIn every...   \n",
       "12  b'SOBHAQS12A8C142CA6'  Who put the monkey wrench in well oiled prefec...   \n",
       "\n",
       "      genre  \n",
       "0      Rock  \n",
       "2      Rock  \n",
       "3     Metal  \n",
       "8       Pop  \n",
       "12  Hip-Hop  "
      ]
     },
     "execution_count": 17,
     "metadata": {},
     "output_type": "execute_result"
    }
   ],
   "source": [
    "df = all_chunks[['song_id','lyrics','genre']]\n",
    "df.head()\n"
   ]
  },
  {
   "cell_type": "code",
   "execution_count": 18,
   "metadata": {},
   "outputs": [
    {
     "data": {
      "text/plain": [
       "array(['Rock', 'Metal', 'Pop', 'Hip-Hop', 'Folk', 'Not Available',\n",
       "       'Electronic', 'Country', 'Jazz', 'Other', 'Indie', 'R&B'],\n",
       "      dtype=object)"
      ]
     },
     "execution_count": 18,
     "metadata": {},
     "output_type": "execute_result"
    }
   ],
   "source": [
    "df.genre.unique()"
   ]
  },
  {
   "cell_type": "code",
   "execution_count": 19,
   "metadata": {},
   "outputs": [],
   "source": [
    "dftemp = df"
   ]
  },
  {
   "cell_type": "code",
   "execution_count": 20,
   "metadata": {},
   "outputs": [
    {
     "data": {
      "text/html": [
       "<div>\n",
       "<style scoped>\n",
       "    .dataframe tbody tr th:only-of-type {\n",
       "        vertical-align: middle;\n",
       "    }\n",
       "\n",
       "    .dataframe tbody tr th {\n",
       "        vertical-align: top;\n",
       "    }\n",
       "\n",
       "    .dataframe thead th {\n",
       "        text-align: right;\n",
       "    }\n",
       "</style>\n",
       "<table border=\"1\" class=\"dataframe\">\n",
       "  <thead>\n",
       "    <tr style=\"text-align: right;\">\n",
       "      <th></th>\n",
       "      <th>song_id</th>\n",
       "      <th>lyrics</th>\n",
       "      <th>genre</th>\n",
       "    </tr>\n",
       "  </thead>\n",
       "  <tbody>\n",
       "    <tr>\n",
       "      <th>0</th>\n",
       "      <td>b'SOLQSFQ12A8C137FA1'</td>\n",
       "      <td>We see life through the same lens\\nThat's what...</td>\n",
       "      <td>Rock</td>\n",
       "    </tr>\n",
       "    <tr>\n",
       "      <th>2</th>\n",
       "      <td>b'SOSFSWB12AB018C99A'</td>\n",
       "      <td>My gears they grind\\nMore each day\\nAnd I feel...</td>\n",
       "      <td>Rock</td>\n",
       "    </tr>\n",
       "    <tr>\n",
       "      <th>3</th>\n",
       "      <td>b'SOVYLKF12AF72A6369'</td>\n",
       "      <td>Made of metal, made of metal, made of metal, m...</td>\n",
       "      <td>Metal</td>\n",
       "    </tr>\n",
       "    <tr>\n",
       "      <th>8</th>\n",
       "      <td>b'SOPSJQH12A8C134466'</td>\n",
       "      <td>All my life\\nIt's changing every day\\nIn every...</td>\n",
       "      <td>Pop</td>\n",
       "    </tr>\n",
       "    <tr>\n",
       "      <th>12</th>\n",
       "      <td>b'SOBHAQS12A8C142CA6'</td>\n",
       "      <td>Who put the monkey wrench in well oiled prefec...</td>\n",
       "      <td>Hip-Hop</td>\n",
       "    </tr>\n",
       "  </tbody>\n",
       "</table>\n",
       "</div>"
      ],
      "text/plain": [
       "                  song_id                                             lyrics  \\\n",
       "0   b'SOLQSFQ12A8C137FA1'  We see life through the same lens\\nThat's what...   \n",
       "2   b'SOSFSWB12AB018C99A'  My gears they grind\\nMore each day\\nAnd I feel...   \n",
       "3   b'SOVYLKF12AF72A6369'  Made of metal, made of metal, made of metal, m...   \n",
       "8   b'SOPSJQH12A8C134466'  All my life\\nIt's changing every day\\nIn every...   \n",
       "12  b'SOBHAQS12A8C142CA6'  Who put the monkey wrench in well oiled prefec...   \n",
       "\n",
       "      genre  \n",
       "0      Rock  \n",
       "2      Rock  \n",
       "3     Metal  \n",
       "8       Pop  \n",
       "12  Hip-Hop  "
      ]
     },
     "execution_count": 20,
     "metadata": {},
     "output_type": "execute_result"
    }
   ],
   "source": [
    "dftemp.head()"
   ]
  },
  {
   "cell_type": "code",
   "execution_count": 21,
   "metadata": {},
   "outputs": [
    {
     "data": {
      "text/plain": [
       "Rock             23235\n",
       "Pop               6886\n",
       "Metal             4861\n",
       "Hip-Hop           4025\n",
       "Not Available     2937\n",
       "Country           2569\n",
       "Electronic        1518\n",
       "Jazz              1414\n",
       "R&B                720\n",
       "Indie              629\n",
       "Other              508\n",
       "Folk               356\n",
       "Name: genre, dtype: int64"
      ]
     },
     "execution_count": 21,
     "metadata": {},
     "output_type": "execute_result"
    }
   ],
   "source": [
    "dff = dftemp.groupby('genre')\n",
    "pd.value_counts(dftemp['genre'])"
   ]
  },
  {
   "cell_type": "code",
   "execution_count": 22,
   "metadata": {},
   "outputs": [
    {
     "data": {
      "image/png": "[encoded data removed]",
      "text/plain": [
       "<Figure size 432x288 with 1 Axes>"
      ]
     },
     "metadata": {
      "needs_background": "light"
     },
     "output_type": "display_data"
    }
   ],
   "source": [
    "pd.value_counts(dftemp['genre']).plot.bar()\n",
    "plt.savefig('images/genre_distribution.png')"
   ]
  },
  {
   "cell_type": "code",
   "execution_count": 23,
   "metadata": {},
   "outputs": [],
   "source": [
    "df1000 = dftemp.groupby('genre').head(1000).reset_index(drop=True)"
   ]
  },
  {
   "cell_type": "code",
   "execution_count": 24,
   "metadata": {},
   "outputs": [
    {
     "data": {
      "text/plain": [
       "(10213, 3)"
      ]
     },
     "execution_count": 24,
     "metadata": {},
     "output_type": "execute_result"
    }
   ],
   "source": [
    "df1000.shape"
   ]
  },
  {
   "cell_type": "code",
   "execution_count": 25,
   "metadata": {},
   "outputs": [
    {
     "data": {
      "text/html": [
       "<div>\n",
       "<style scoped>\n",
       "    .dataframe tbody tr th:only-of-type {\n",
       "        vertical-align: middle;\n",
       "    }\n",
       "\n",
       "    .dataframe tbody tr th {\n",
       "        vertical-align: top;\n",
       "    }\n",
       "\n",
       "    .dataframe thead th {\n",
       "        text-align: right;\n",
       "    }\n",
       "</style>\n",
       "<table border=\"1\" class=\"dataframe\">\n",
       "  <thead>\n",
       "    <tr style=\"text-align: right;\">\n",
       "      <th></th>\n",
       "      <th>song_id</th>\n",
       "      <th>lyrics</th>\n",
       "      <th>genre</th>\n",
       "    </tr>\n",
       "  </thead>\n",
       "  <tbody>\n",
       "    <tr>\n",
       "      <th>0</th>\n",
       "      <td>b'SOLQSFQ12A8C137FA1'</td>\n",
       "      <td>We see life through the same lens\\nThat's what...</td>\n",
       "      <td>Rock</td>\n",
       "    </tr>\n",
       "    <tr>\n",
       "      <th>1</th>\n",
       "      <td>b'SOSFSWB12AB018C99A'</td>\n",
       "      <td>My gears they grind\\nMore each day\\nAnd I feel...</td>\n",
       "      <td>Rock</td>\n",
       "    </tr>\n",
       "    <tr>\n",
       "      <th>2</th>\n",
       "      <td>b'SOVYLKF12AF72A6369'</td>\n",
       "      <td>Made of metal, made of metal, made of metal, m...</td>\n",
       "      <td>Metal</td>\n",
       "    </tr>\n",
       "    <tr>\n",
       "      <th>3</th>\n",
       "      <td>b'SOPSJQH12A8C134466'</td>\n",
       "      <td>All my life\\nIt's changing every day\\nIn every...</td>\n",
       "      <td>Pop</td>\n",
       "    </tr>\n",
       "    <tr>\n",
       "      <th>4</th>\n",
       "      <td>b'SOBHAQS12A8C142CA6'</td>\n",
       "      <td>Who put the monkey wrench in well oiled prefec...</td>\n",
       "      <td>Hip-Hop</td>\n",
       "    </tr>\n",
       "  </tbody>\n",
       "</table>\n",
       "</div>"
      ],
      "text/plain": [
       "                 song_id                                             lyrics  \\\n",
       "0  b'SOLQSFQ12A8C137FA1'  We see life through the same lens\\nThat's what...   \n",
       "1  b'SOSFSWB12AB018C99A'  My gears they grind\\nMore each day\\nAnd I feel...   \n",
       "2  b'SOVYLKF12AF72A6369'  Made of metal, made of metal, made of metal, m...   \n",
       "3  b'SOPSJQH12A8C134466'  All my life\\nIt's changing every day\\nIn every...   \n",
       "4  b'SOBHAQS12A8C142CA6'  Who put the monkey wrench in well oiled prefec...   \n",
       "\n",
       "     genre  \n",
       "0     Rock  \n",
       "1     Rock  \n",
       "2    Metal  \n",
       "3      Pop  \n",
       "4  Hip-Hop  "
      ]
     },
     "execution_count": 25,
     "metadata": {},
     "output_type": "execute_result"
    }
   ],
   "source": [
    "df1000.head()"
   ]
  },
  {
   "cell_type": "code",
   "execution_count": 30,
   "metadata": {},
   "outputs": [],
   "source": [
    "indexNames = df1000[ df1000['genre'] == \"Not Available\" ].index\n",
    "df1000.drop(indexNames , inplace=True)"
   ]
  },
  {
   "cell_type": "code",
   "execution_count": 31,
   "metadata": {},
   "outputs": [
    {
     "data": {
      "image/png": "[encoded data removed]",
      "text/plain": [
       "<Figure size 432x288 with 1 Axes>"
      ]
     },
     "metadata": {
      "needs_background": "light"
     },
     "output_type": "display_data"
    }
   ],
   "source": [
    "pd.value_counts(df1000['genre']).plot.bar()\n",
    "plt.savefig('images/genre_equal_distribution.png')"
   ]
  },
  {
   "cell_type": "code",
   "execution_count": 36,
   "metadata": {},
   "outputs": [
    {
     "name": "stdout",
     "output_type": "stream",
     "text": [
      "Rock\n",
      "Metal\n",
      "Pop\n",
      "Hip-Hop\n",
      "Folk\n",
      "Electronic\n",
      "Country\n",
      "Jazz\n",
      "Indie\n",
      "R&B\n"
     ]
    }
   ],
   "source": [
    "uniqueGenres = df1000.genre.unique()\n",
    "for genre in uniqueGenres:\n",
    "    print(genre)\n",
    "    tempdf = df1000[df1000['genre']==genre]\n",
    "    allLyrics = tempdf['lyrics']\n",
    "    combo=\"\"\n",
    "    for lyric in allLyrics:\n",
    "        lyric = str(lyric)\n",
    "        lyric = re.sub(r'\\W+ \\n', '', lyric)\n",
    "        combo = combo+lyric+\"\\n\\n\"\n",
    "        combo = combo.encode().decode('utf-8','ignore')\n",
    "    filename = 'lyrics/'+genre+'.txt'\n",
    "    with open(filename,'a') as f:\n",
    "        f.write(combo)\n",
    "        f.close()"
   ]
  },
  {
   "cell_type": "code",
   "execution_count": 74,
   "metadata": {},
   "outputs": [
    {
     "name": "stderr",
     "output_type": "stream",
     "text": [
      "IOPub data rate exceeded.\n",
      "The notebook server will temporarily stop sending output\n",
      "to the client in order to avoid crashing it.\n",
      "To change this limit, set the config variable\n",
      "`--NotebookApp.iopub_data_rate_limit`.\n",
      "\n",
      "Current values:\n",
      "NotebookApp.iopub_data_rate_limit=1000000.0 (bytes/sec)\n",
      "NotebookApp.rate_limit_window=3.0 (secs)\n",
      "\n"
     ]
    }
   ],
   "source": [
    "# allLyrics = df1000['lyrics']\n",
    "# combo=\"\"\n",
    "# for lyric in allLyrics:\n",
    "#     lyric = str(lyric)\n",
    "#     lyric = re.sub(r'\\W+ \\n', '', lyric)\n",
    "#     combo = combo+lyric+\"\\n\\n\"\n",
    "#     combo = combo.encode().decode('utf-8','ignore')\n",
    "# #     combo = unicode(combo, \"utf-8\")\n",
    "# #     decode('utf-8', 'ignore')\n",
    "# print(combo)\n",
    "# with open('allLyrics.txt','a') as f:\n",
    "#     f.write(combo)\n",
    "#     f.close()"
   ]
  },
  {
   "cell_type": "code",
   "execution_count": null,
   "metadata": {},
   "outputs": [],
   "source": []
  }
 ],
 "metadata": {
  "kernelspec": {
   "display_name": "Python 3",
   "language": "python",
   "name": "python3"
  },
  "language_info": {
   "codemirror_mode": {
    "name": "ipython",
    "version": 3
   },
   "file_extension": ".py",
   "mimetype": "text/x-python",
   "name": "python",
   "nbconvert_exporter": "python",
   "pygments_lexer": "ipython3",
   "version": "3.7.3"
  }
 },
 "nbformat": 4,
 "nbformat_minor": 2
}
