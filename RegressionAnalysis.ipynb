{
 "cells": [
  {
   "cell_type": "code",
   "execution_count": 1,
   "metadata": {},
   "outputs": [],
   "source": [
    "import numpy as np\n",
    "import pandas as pd\n",
    "import os\n",
    "import pickle\n",
    "from matplotlib import pyplot as plt\n",
    "import seaborn as sns\n",
    "\n",
    "from xgboost import XGBClassifier\n",
    "from xgboost import plot_importance\n",
    "from sklearn.preprocessing import LabelEncoder\n",
    "from sklearn.model_selection import train_test_split\n",
    "from sklearn.metrics import accuracy_score\n",
    "from sklearn.feature_selection import SelectFromModel\n",
    "\n",
    "from sklearn import linear_model\n",
    "from sklearn import tree\n",
    "from sklearn.ensemble import GradientBoostingRegressor\n",
    "from sklearn.metrics import mean_squared_error, r2_score\n",
    "\n",
    "import torch\n",
    "import torch.nn as nn\n",
    "import torch.nn.functional as F\n",
    "import torch.optim as optim\n",
    "from torch.autograd import Variable\n",
    "DATA_DIR=\"data/\""
   ]
  },
  {
   "cell_type": "code",
   "execution_count": 96,
   "metadata": {},
   "outputs": [
    {
     "name": "stdout",
     "output_type": "stream",
     "text": [
      "(49658, 13)\n"
     ]
    }
   ],
   "source": [
    "with open(DATA_DIR+\"lyrics_genre_MSD_1000chunks.pickle\",\"rb\") as f:\n",
    "    data=pickle.load(f)\n",
    "\n",
    "data=data[['tempo', 'artist_familiarity', 'mode', 'loudness', 'artist_hotttnesss', 'key_confidence', 'end_of_fade_in', 'start_of_fade_out', 'duration', 'time_signature', 'key', 'song_hotttnesss','genre']]\n",
    "print(data.shape)"
   ]
  },
  {
   "cell_type": "code",
   "execution_count": 97,
   "metadata": {},
   "outputs": [
    {
     "name": "stdout",
     "output_type": "stream",
     "text": [
      "(49658, 300)\n"
     ]
    }
   ],
   "source": [
    "arr=np.load(DATA_DIR+\"feature_vectors.npy\")\n",
    "dataf=pd.DataFrame(arr,index=None,columns=None)\n",
    "print(dataf.shape)"
   ]
  },
  {
   "cell_type": "code",
   "execution_count": 99,
   "metadata": {},
   "outputs": [
    {
     "data": {
      "text/plain": [
       "(49658, 20)"
      ]
     },
     "execution_count": 99,
     "metadata": {},
     "output_type": "execute_result"
    }
   ],
   "source": [
    "from sklearn.decomposition import PCA\n",
    "pca=PCA(n_components=20)\n",
    "pca.fit(dataf)\n",
    "dataf_red=pd.DataFrame(pca.fit_transform(dataf))\n",
    "dataf_red.shape"
   ]
  },
  {
   "cell_type": "code",
   "execution_count": 100,
   "metadata": {},
   "outputs": [
    {
     "name": "stdout",
     "output_type": "stream",
     "text": [
      "(49658, 33)\n"
     ]
    }
   ],
   "source": [
    "df=pd.concat([data.reset_index(drop=True),dataf_red.reset_index(drop=True)],axis=1)\n",
    "print(df.shape)"
   ]
  },
  {
   "cell_type": "code",
   "execution_count": 101,
   "metadata": {},
   "outputs": [
    {
     "data": {
      "text/plain": [
       "(34294, 33)"
      ]
     },
     "execution_count": 101,
     "metadata": {},
     "output_type": "execute_result"
    }
   ],
   "source": [
    "df=df.dropna()\n",
    "df.shape"
   ]
  },
  {
   "cell_type": "code",
   "execution_count": 102,
   "metadata": {},
   "outputs": [
    {
     "name": "stdout",
     "output_type": "stream",
     "text": [
      "(34294, 32)\n",
      "(34294,)\n"
     ]
    }
   ],
   "source": [
    "X=df.drop(\"song_hotttnesss\",axis=1)\n",
    "y=df[\"song_hotttnesss\"]\n",
    "\n",
    "print(X.shape)\n",
    "print(y.shape)"
   ]
  },
  {
   "cell_type": "code",
   "execution_count": 103,
   "metadata": {},
   "outputs": [
    {
     "name": "stdout",
     "output_type": "stream",
     "text": [
      "Transforming column:  genre\n",
      "(34294, 32)\n"
     ]
    }
   ],
   "source": [
    "#Label encoding - converting columns with non-numeric datatypes to numeric \n",
    "le = LabelEncoder()\n",
    "for column in X.columns:\n",
    "    if(X[column].dtype=='object'):\n",
    "        print(\"Transforming column: \", column)\n",
    "        X[column] = le.fit_transform(X[column])\n",
    "print(X.shape)"
   ]
  },
  {
   "cell_type": "code",
   "execution_count": 113,
   "metadata": {},
   "outputs": [],
   "source": [
    "cX = (X - np.mean(X, axis=0))/np.std(X, axis=0)\n",
    "x_train, x_test, y_train, y_test = train_test_split(cX, y, test_size=0.6, random_state=42)"
   ]
  },
  {
   "cell_type": "code",
   "execution_count": 114,
   "metadata": {},
   "outputs": [
    {
     "name": "stdout",
     "output_type": "stream",
     "text": [
      "(13717, 32)\n",
      "(20577, 32)\n",
      "(13717,)\n",
      "(20577,)\n"
     ]
    }
   ],
   "source": [
    "print(x_train.shape)\n",
    "print(x_test.shape)\n",
    "print(y_train.shape)\n",
    "print(y_test.shape)"
   ]
  },
  {
   "cell_type": "markdown",
   "metadata": {},
   "source": [
    "<h1>Linear Regression</h1>"
   ]
  },
  {
   "cell_type": "code",
   "execution_count": 115,
   "metadata": {},
   "outputs": [
    {
     "name": "stdout",
     "output_type": "stream",
     "text": [
      "Train Score:  0.37621277863484975\n",
      "Test Score:  0.3620605190818106\n",
      "Root Mean squared error: 0.18\n"
     ]
    }
   ],
   "source": [
    "reg = linear_model.LinearRegression()\n",
    "reg.fit(x_train, y_train)\n",
    "y_pred = reg.predict(x_test)\n",
    "print(\"Train Score: \", reg.score(x_train, y_train))\n",
    "print(\"Test Score: \", reg.score(x_test, y_test))\n",
    "print(\"Root Mean squared error: %.2f\" % mean_squared_error(y_test, y_pred)**0.5)\n"
   ]
  },
  {
   "cell_type": "markdown",
   "metadata": {},
   "source": [
    "<h1>Ridge Regression</h1>"
   ]
  },
  {
   "cell_type": "code",
   "execution_count": 68,
   "metadata": {},
   "outputs": [
    {
     "name": "stdout",
     "output_type": "stream",
     "text": [
      "Train Score:  0.37139109374730944\n",
      "Test Score:  0.34762160954788346\n",
      "Root Mean squared error: 0.18\n"
     ]
    }
   ],
   "source": [
    "reg = linear_model.Ridge(alpha=0.5)\n",
    "reg.fit(x_train, y_train)\n",
    "y_pred = reg.predict(x_test)\n",
    "print(\"Train Score: \", reg.score(x_train, y_train))\n",
    "print(\"Test Score: \", reg.score(x_test, y_test))\n",
    "print(\"Root Mean squared error: %.2f\" % mean_squared_error(y_test, y_pred)**0.5)"
   ]
  },
  {
   "cell_type": "markdown",
   "metadata": {},
   "source": [
    "<h1>Ridge Regression (with Cross validation)</h1>"
   ]
  },
  {
   "cell_type": "code",
   "execution_count": 69,
   "metadata": {},
   "outputs": [
    {
     "name": "stdout",
     "output_type": "stream",
     "text": [
      "Train Score:  0.37139107149870976\n",
      "Test Score:  0.3476220704729228\n",
      "Root Mean squared error: 0.18\n"
     ]
    }
   ],
   "source": [
    "reg = linear_model.RidgeCV(alphas=np.logspace(-6, 6, 13), cv=10)\n",
    "reg.fit(x_train, y_train)\n",
    "y_pred = reg.predict(x_test)\n",
    "print(\"Train Score: \", reg.score(x_train, y_train))\n",
    "print(\"Test Score: \", reg.score(x_test, y_test))\n",
    "print(\"Root Mean squared error: %.2f\" % mean_squared_error(y_test, y_pred)**0.5)"
   ]
  },
  {
   "cell_type": "markdown",
   "metadata": {},
   "source": [
    "<h1>Lasso Regression</h1>"
   ]
  },
  {
   "cell_type": "code",
   "execution_count": 70,
   "metadata": {},
   "outputs": [
    {
     "name": "stdout",
     "output_type": "stream",
     "text": [
      "Train Score:  0.371166451873956\n",
      "Test Score:  0.34762259074782087\n",
      "Root Mean squared error: 0.18\n"
     ]
    }
   ],
   "source": [
    "reg = linear_model.LassoLarsCV(cv=10)\n",
    "reg.fit(x_train, y_train)\n",
    "y_pred = reg.predict(x_test)\n",
    "print(\"Train Score: \", reg.score(x_train, y_train))\n",
    "print(\"Test Score: \", reg.score(x_test, y_test))\n",
    "print(\"Root Mean squared error: %.2f\" % mean_squared_error(y_test, y_pred)**0.5)"
   ]
  },
  {
   "cell_type": "markdown",
   "metadata": {},
   "source": [
    "<h1>Elastic Net</h1>"
   ]
  },
  {
   "cell_type": "code",
   "execution_count": 71,
   "metadata": {},
   "outputs": [
    {
     "name": "stdout",
     "output_type": "stream",
     "text": [
      "Train Score:  0.3711481491827278\n",
      "Test Score:  0.34762382791456303\n",
      "Root Mean squared error: 0.18\n"
     ]
    }
   ],
   "source": [
    "reg = linear_model.ElasticNetCV(cv=5, random_state=3)\n",
    "reg.fit(x_train, y_train)\n",
    "y_pred = reg.predict(x_test)\n",
    "print(\"Train Score: \", reg.score(x_train, y_train))\n",
    "print(\"Test Score: \", reg.score(x_test, y_test))\n",
    "print(\"Root Mean squared error: %.2f\" % mean_squared_error(y_test, y_pred)**0.5)"
   ]
  },
  {
   "cell_type": "markdown",
   "metadata": {},
   "source": [
    "<h1>Orthogonal Matching Pursuit</h1>"
   ]
  },
  {
   "cell_type": "code",
   "execution_count": 72,
   "metadata": {},
   "outputs": [
    {
     "name": "stdout",
     "output_type": "stream",
     "text": [
      "Train Score:  0.3268726213393013\n",
      "Test Score:  0.3092903361235064\n",
      "Root Mean squared error: 0.19\n"
     ]
    }
   ],
   "source": [
    "reg = linear_model.OrthogonalMatchingPursuit()\n",
    "reg.fit(x_train, y_train)\n",
    "y_pred = reg.predict(x_test)\n",
    "print(\"Train Score: \", reg.score(x_train, y_train))\n",
    "print(\"Test Score: \", reg.score(x_test, y_test))\n",
    "print(\"Root Mean squared error: %.2f\" % mean_squared_error(y_test, y_pred)**0.5)"
   ]
  },
  {
   "cell_type": "markdown",
   "metadata": {},
   "source": [
    "<h1>Bayesian Ridge Regression</h1>"
   ]
  },
  {
   "cell_type": "code",
   "execution_count": 73,
   "metadata": {},
   "outputs": [
    {
     "name": "stdout",
     "output_type": "stream",
     "text": [
      "Train Score:  0.37137011212773213\n",
      "Test Score:  0.3476245608337668\n",
      "Root Mean squared error: 0.18\n"
     ]
    }
   ],
   "source": [
    "reg = linear_model.BayesianRidge()\n",
    "reg.fit(x_train, y_train)\n",
    "y_pred = reg.predict(x_test)\n",
    "print(\"Train Score: \", reg.score(x_train, y_train))\n",
    "print(\"Test Score: \", reg.score(x_test, y_test))\n",
    "print(\"Root Mean squared error: %.2f\" % mean_squared_error(y_test, y_pred)**0.5)"
   ]
  },
  {
   "cell_type": "markdown",
   "metadata": {},
   "source": [
    "<h1>Decision Trees</h1>"
   ]
  },
  {
   "cell_type": "code",
   "execution_count": 74,
   "metadata": {},
   "outputs": [
    {
     "name": "stdout",
     "output_type": "stream",
     "text": [
      "Train Score:  0.5221942716062586\n",
      "Test Score:  0.3285538333233089\n",
      "Root Mean squared error: 0.19\n"
     ]
    }
   ],
   "source": [
    "reg = tree.DecisionTreeRegressor(max_depth=10)\n",
    "reg.fit(x_train, y_train)\n",
    "y_pred = reg.predict(x_test)\n",
    "print(\"Train Score: \", reg.score(x_train, y_train))\n",
    "print(\"Test Score: \", reg.score(x_test, y_test))\n",
    "print(\"Root Mean squared error: %.2f\" % mean_squared_error(y_test, y_pred)**0.5)"
   ]
  },
  {
   "cell_type": "markdown",
   "metadata": {},
   "source": [
    "<h1>Gradient Boosting</h1>"
   ]
  },
  {
   "cell_type": "code",
   "execution_count": 75,
   "metadata": {},
   "outputs": [
    {
     "name": "stdout",
     "output_type": "stream",
     "text": [
      "Train Score:  0.8089634296598317\n",
      "Test Score:  0.4099645513305516\n",
      "Root Mean squared error: 0.17\n"
     ]
    }
   ],
   "source": [
    "reg = GradientBoostingRegressor(n_estimators=100, learning_rate=0.1, max_depth=10, random_state=0, loss='ls')\n",
    "reg.fit(x_train, y_train)\n",
    "y_pred = reg.predict(x_test)\n",
    "print(\"Train Score: \", reg.score(x_train, y_train))\n",
    "print(\"Test Score: \", reg.score(x_test, y_test))\n",
    "print(\"Root Mean squared error: %.2f\" % mean_squared_error(y_test, y_pred)**0.5)"
   ]
  },
  {
   "cell_type": "code",
   "execution_count": null,
   "metadata": {},
   "outputs": [],
   "source": []
  }
 ],
 "metadata": {
  "kernelspec": {
   "display_name": "Python 3",
   "language": "python",
   "name": "python3"
  },
  "language_info": {
   "codemirror_mode": {
    "name": "ipython",
    "version": 3
   },
   "file_extension": ".py",
   "mimetype": "text/x-python",
   "name": "python",
   "nbconvert_exporter": "python",
   "pygments_lexer": "ipython3",
   "version": "3.7.4"
  }
 },
 "nbformat": 4,
 "nbformat_minor": 2
}
