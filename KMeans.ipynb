{
 "cells": [
  {
   "cell_type": "code",
   "execution_count": 5,
   "metadata": {
    "colab": {},
    "colab_type": "code",
    "id": "A-eYLs3jW2ui"
   },
   "outputs": [],
   "source": [
    "import numpy as np\n",
    "import pandas as pd\n",
    "import os\n",
    "import pickle\n",
    "import csv\n",
    "from matplotlib import pyplot as plt\n",
    "import seaborn as sns\n",
    "from sklearn.cluster import KMeans \n",
    "DATA_DIR = 'data/'"
   ]
  },
  {
   "cell_type": "code",
   "execution_count": 10,
   "metadata": {
    "colab": {},
    "colab_type": "code",
    "id": "o1Z8pGF0XT5q"
   },
   "outputs": [],
   "source": [
    "data=np.load(DATA_DIR+\"feature_vectors.npy\")"
   ]
  },
  {
   "cell_type": "code",
   "execution_count": 21,
   "metadata": {
    "colab": {
     "base_uri": "https://localhost:8080/",
     "height": 452
    },
    "colab_type": "code",
    "id": "rIa48B8MXa4m",
    "outputId": "01dd0e04-365e-4e74-b264-4421c3cef90d"
   },
   "outputs": [
    {
     "name": "stdout",
     "output_type": "stream",
     "text": [
      "5\n",
      "505\n",
      "1005\n",
      "1505\n",
      "2005\n",
      "2505\n",
      "3005\n",
      "3505\n",
      "4005\n",
      "4505\n"
     ]
    },
    {
     "data": {
      "text/plain": [
       "[<matplotlib.lines.Line2D at 0x7fd838022b70>]"
      ]
     },
     "execution_count": 21,
     "metadata": {
      "tags": []
     },
     "output_type": "execute_result"
    },
    {
     "data": {
      "image/png": "[encoded data removed]",
      "text/plain": [
       "<Figure size 432x288 with 1 Axes>"
      ]
     },
     "metadata": {
      "tags": []
     },
     "output_type": "display_data"
    }
   ],
   "source": [
    "step_size=500\n",
    "k=[]\n",
    "errors=[]\n",
    "\n",
    "for i in range(5,data.shape[0],step_size):\n",
    "    kmeans=KMeans(n_clusters=i,random_state=0).fit(data)\n",
    "    error_sum=0\n",
    "    for j in range(i):\n",
    "        error_sum=error_sum+np.sum(np.sum((data[kmeans.labels_==j]-kmeans.cluster_centers_[j])**2,axis=-1))\n",
    "        \n",
    "    errors.append(error_sum)\n",
    "    k.append(i)\n",
    "    print(i)\n",
    "plt.plot(k,errors)"
   ]
  },
  {
   "cell_type": "code",
   "execution_count": 11,
   "metadata": {
    "colab": {},
    "colab_type": "code",
    "id": "hMrx5yrwXfc9"
   },
   "outputs": [],
   "source": [
    "kmeans=KMeans(n_clusters=500,random_state=0).fit(data)\n",
    "\n",
    "with open(DATA_DIR+\"kmeans.pkl\",\"wb\") as f:\n",
    "    pickle.dump(kmeans,f)"
   ]
  },
  {
   "cell_type": "code",
   "execution_count": null,
   "metadata": {},
   "outputs": [],
   "source": []
  }
 ],
 "metadata": {
  "accelerator": "GPU",
  "colab": {
   "name": "Untitled6.ipynb",
   "provenance": [],
   "toc_visible": true
  },
  "kernelspec": {
   "display_name": "Python 3",
   "language": "python",
   "name": "python3"
  },
  "language_info": {
   "codemirror_mode": {
    "name": "ipython",
    "version": 3
   },
   "file_extension": ".py",
   "mimetype": "text/x-python",
   "name": "python",
   "nbconvert_exporter": "python",
   "pygments_lexer": "ipython3",
   "version": "3.7.4"
  }
 },
 "nbformat": 4,
 "nbformat_minor": 1
}
